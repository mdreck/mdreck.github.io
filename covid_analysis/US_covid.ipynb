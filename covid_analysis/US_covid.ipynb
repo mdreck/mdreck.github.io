{
 "cells": [
  {
   "cell_type": "markdown",
   "metadata": {},
   "source": [
    "# COVID-19: United States Confirmed Cases & Deaths "
   ]
  },
  {
   "cell_type": "markdown",
   "metadata": {},
   "source": [
    "The following data cleaning and merging is performed to load the data into Power BI for further visualization and analysis."
   ]
  },
  {
   "cell_type": "code",
   "execution_count": 20,
   "metadata": {},
   "outputs": [],
   "source": [
    "# Packages / libraries\n",
    "import os\n",
    "import numpy as np\n",
    "import pandas as pd\n",
    "from datetime import datetime\n",
    "\n",
    "import warnings\n",
    "warnings.filterwarnings('ignore')"
   ]
  },
  {
   "cell_type": "markdown",
   "metadata": {},
   "source": [
    "The data collected for this analysis is operated by the Johns Hopkins University Center for Systems Science and Engineering (https://github.com/CSSEGISandData/COVID-19/tree/master/csse_covid_19_data/csse_covid_19_time_series)"
   ]
  },
  {
   "cell_type": "code",
   "execution_count": 21,
   "metadata": {
    "scrolled": false
   },
   "outputs": [
    {
     "name": "stdout",
     "output_type": "stream",
     "text": [
      "The shape of confirmed is: (3342, 485)\n",
      "The shape of deaths is: (3342, 486)\n"
     ]
    },
    {
     "data": {
      "text/html": [
       "<div>\n",
       "<style scoped>\n",
       "    .dataframe tbody tr th:only-of-type {\n",
       "        vertical-align: middle;\n",
       "    }\n",
       "\n",
       "    .dataframe tbody tr th {\n",
       "        vertical-align: top;\n",
       "    }\n",
       "\n",
       "    .dataframe thead th {\n",
       "        text-align: right;\n",
       "    }\n",
       "</style>\n",
       "<table border=\"1\" class=\"dataframe\">\n",
       "  <thead>\n",
       "    <tr style=\"text-align: right;\">\n",
       "      <th></th>\n",
       "      <th>UID</th>\n",
       "      <th>iso2</th>\n",
       "      <th>iso3</th>\n",
       "      <th>code3</th>\n",
       "      <th>FIPS</th>\n",
       "      <th>Admin2</th>\n",
       "      <th>Province_State</th>\n",
       "      <th>Country_Region</th>\n",
       "      <th>Lat</th>\n",
       "      <th>Long_</th>\n",
       "      <th>...</th>\n",
       "      <th>4/30/21</th>\n",
       "      <th>5/1/21</th>\n",
       "      <th>5/2/21</th>\n",
       "      <th>5/3/21</th>\n",
       "      <th>5/4/21</th>\n",
       "      <th>5/5/21</th>\n",
       "      <th>5/6/21</th>\n",
       "      <th>5/7/21</th>\n",
       "      <th>5/8/21</th>\n",
       "      <th>5/9/21</th>\n",
       "    </tr>\n",
       "  </thead>\n",
       "  <tbody>\n",
       "    <tr>\n",
       "      <td>0</td>\n",
       "      <td>84001001</td>\n",
       "      <td>US</td>\n",
       "      <td>USA</td>\n",
       "      <td>840</td>\n",
       "      <td>1001.0</td>\n",
       "      <td>Autauga</td>\n",
       "      <td>Alabama</td>\n",
       "      <td>US</td>\n",
       "      <td>32.539527</td>\n",
       "      <td>-86.644082</td>\n",
       "      <td>...</td>\n",
       "      <td>6904</td>\n",
       "      <td>6907</td>\n",
       "      <td>6909</td>\n",
       "      <td>6910</td>\n",
       "      <td>6910</td>\n",
       "      <td>6914</td>\n",
       "      <td>6914</td>\n",
       "      <td>6918</td>\n",
       "      <td>6918</td>\n",
       "      <td>6920</td>\n",
       "    </tr>\n",
       "    <tr>\n",
       "      <td>1</td>\n",
       "      <td>84001003</td>\n",
       "      <td>US</td>\n",
       "      <td>USA</td>\n",
       "      <td>840</td>\n",
       "      <td>1003.0</td>\n",
       "      <td>Baldwin</td>\n",
       "      <td>Alabama</td>\n",
       "      <td>US</td>\n",
       "      <td>30.727750</td>\n",
       "      <td>-87.722071</td>\n",
       "      <td>...</td>\n",
       "      <td>20941</td>\n",
       "      <td>20966</td>\n",
       "      <td>20983</td>\n",
       "      <td>20993</td>\n",
       "      <td>20993</td>\n",
       "      <td>21035</td>\n",
       "      <td>21093</td>\n",
       "      <td>21107</td>\n",
       "      <td>21123</td>\n",
       "      <td>21131</td>\n",
       "    </tr>\n",
       "    <tr>\n",
       "      <td>2</td>\n",
       "      <td>84001005</td>\n",
       "      <td>US</td>\n",
       "      <td>USA</td>\n",
       "      <td>840</td>\n",
       "      <td>1005.0</td>\n",
       "      <td>Barbour</td>\n",
       "      <td>Alabama</td>\n",
       "      <td>US</td>\n",
       "      <td>31.868263</td>\n",
       "      <td>-85.387129</td>\n",
       "      <td>...</td>\n",
       "      <td>2300</td>\n",
       "      <td>2302</td>\n",
       "      <td>2302</td>\n",
       "      <td>2302</td>\n",
       "      <td>2302</td>\n",
       "      <td>2307</td>\n",
       "      <td>2307</td>\n",
       "      <td>2307</td>\n",
       "      <td>2307</td>\n",
       "      <td>2308</td>\n",
       "    </tr>\n",
       "    <tr>\n",
       "      <td>3</td>\n",
       "      <td>84001007</td>\n",
       "      <td>US</td>\n",
       "      <td>USA</td>\n",
       "      <td>840</td>\n",
       "      <td>1007.0</td>\n",
       "      <td>Bibb</td>\n",
       "      <td>Alabama</td>\n",
       "      <td>US</td>\n",
       "      <td>32.996421</td>\n",
       "      <td>-87.125115</td>\n",
       "      <td>...</td>\n",
       "      <td>2594</td>\n",
       "      <td>2596</td>\n",
       "      <td>2596</td>\n",
       "      <td>2597</td>\n",
       "      <td>2597</td>\n",
       "      <td>2604</td>\n",
       "      <td>2604</td>\n",
       "      <td>2604</td>\n",
       "      <td>2605</td>\n",
       "      <td>2607</td>\n",
       "    </tr>\n",
       "    <tr>\n",
       "      <td>4</td>\n",
       "      <td>84001009</td>\n",
       "      <td>US</td>\n",
       "      <td>USA</td>\n",
       "      <td>840</td>\n",
       "      <td>1009.0</td>\n",
       "      <td>Blount</td>\n",
       "      <td>Alabama</td>\n",
       "      <td>US</td>\n",
       "      <td>33.982109</td>\n",
       "      <td>-86.567906</td>\n",
       "      <td>...</td>\n",
       "      <td>6613</td>\n",
       "      <td>6616</td>\n",
       "      <td>6619</td>\n",
       "      <td>6621</td>\n",
       "      <td>6621</td>\n",
       "      <td>6635</td>\n",
       "      <td>6645</td>\n",
       "      <td>6651</td>\n",
       "      <td>6656</td>\n",
       "      <td>6660</td>\n",
       "    </tr>\n",
       "  </tbody>\n",
       "</table>\n",
       "<p>5 rows × 485 columns</p>\n",
       "</div>"
      ],
      "text/plain": [
       "        UID iso2 iso3  code3    FIPS   Admin2 Province_State Country_Region  \\\n",
       "0  84001001   US  USA    840  1001.0  Autauga        Alabama             US   \n",
       "1  84001003   US  USA    840  1003.0  Baldwin        Alabama             US   \n",
       "2  84001005   US  USA    840  1005.0  Barbour        Alabama             US   \n",
       "3  84001007   US  USA    840  1007.0     Bibb        Alabama             US   \n",
       "4  84001009   US  USA    840  1009.0   Blount        Alabama             US   \n",
       "\n",
       "         Lat      Long_  ... 4/30/21  5/1/21  5/2/21  5/3/21  5/4/21  5/5/21  \\\n",
       "0  32.539527 -86.644082  ...    6904    6907    6909    6910    6910    6914   \n",
       "1  30.727750 -87.722071  ...   20941   20966   20983   20993   20993   21035   \n",
       "2  31.868263 -85.387129  ...    2300    2302    2302    2302    2302    2307   \n",
       "3  32.996421 -87.125115  ...    2594    2596    2596    2597    2597    2604   \n",
       "4  33.982109 -86.567906  ...    6613    6616    6619    6621    6621    6635   \n",
       "\n",
       "   5/6/21  5/7/21  5/8/21  5/9/21  \n",
       "0    6914    6918    6918    6920  \n",
       "1   21093   21107   21123   21131  \n",
       "2    2307    2307    2307    2308  \n",
       "3    2604    2604    2605    2607  \n",
       "4    6645    6651    6656    6660  \n",
       "\n",
       "[5 rows x 485 columns]"
      ]
     },
     "execution_count": 21,
     "metadata": {},
     "output_type": "execute_result"
    }
   ],
   "source": [
    "# load raw data from https://github.com/CSSEGISandData/COVID-19/tree/master/csse_covid_19_data/csse_covid_19_time_series\n",
    "confirmed = pd.read_csv(\"C:/Users/garcr/Desktop/time_series_covid19_confirmed_US.csv\")\n",
    "deaths = pd.read_csv(\"C:/Users/garcr/Desktop/time_series_covid19_deaths_US.csv\")\n",
    "\n",
    "# Confirm that the dataframes have the same number of rows (countries) and columns (dates)\n",
    "# Deaths dataframe has an extra column 'Population'\n",
    "print('The shape of confirmed is:', confirmed.shape)\n",
    "print('The shape of deaths is:', deaths.shape)\n",
    "\n",
    "confirmed.head()\n",
    "#deaths.head()"
   ]
  },
  {
   "cell_type": "code",
   "execution_count": 22,
   "metadata": {
    "scrolled": true
   },
   "outputs": [],
   "source": [
    "# Drop unnecessary columns\n",
    "confirmed.drop(['iso2','iso3','code3','FIPS','Combined_Key'], axis=1, inplace=True)\n",
    "deaths.drop(['iso2','iso3','code3','FIPS','Combined_Key'], axis=1, inplace=True)\n",
    "\n",
    "#confirmed.head()\n",
    "#deaths.head()"
   ]
  },
  {
   "cell_type": "code",
   "execution_count": 23,
   "metadata": {},
   "outputs": [
    {
     "name": "stdout",
     "output_type": "stream",
     "text": [
      "The shape of confirmed is: (1584108, 8)\n",
      "The shape of deaths is: (1584108, 9)\n"
     ]
    }
   ],
   "source": [
    "# Melt the date columns into one column\n",
    "confirmed2 = pd.melt(confirmed, id_vars=[\n",
    "                     'UID', 'Admin2', 'Province_State', 'Country_Region', 'Lat', 'Long_'], var_name=['Date'])\n",
    "deaths2 = pd.melt(deaths, id_vars=['UID', 'Admin2', 'Province_State',\n",
    "                                   'Country_Region', 'Lat', 'Long_', 'Population'], var_name=['Date'])\n",
    "\n",
    "print('The shape of confirmed is:', confirmed2.shape)\n",
    "print('The shape of deaths is:', deaths2.shape)\n",
    "\n",
    "# confirmed2.head()"
   ]
  },
  {
   "cell_type": "code",
   "execution_count": 24,
   "metadata": {},
   "outputs": [],
   "source": [
    "# Convert Date column into datetime objects (xxxx-xx-xx)\n",
    "confirmed2['Date'] = pd.to_datetime(confirmed2['Date'])\n",
    "deaths2['Date'] = pd.to_datetime(deaths2['Date'])"
   ]
  },
  {
   "cell_type": "code",
   "execution_count": 25,
   "metadata": {},
   "outputs": [
    {
     "name": "stdout",
     "output_type": "stream",
     "text": [
      "UID                  0\n",
      "County            2844\n",
      "Province_State       0\n",
      "Country_Region       0\n",
      "Lat                  0\n",
      "Long_                0\n",
      "Date                 0\n",
      "Confirmed            0\n",
      "dtype: int64\n",
      "UID                  0\n",
      "County            2844\n",
      "Province_State       0\n",
      "Country_Region       0\n",
      "Lat                  0\n",
      "Long_                0\n",
      "Population           0\n",
      "Date                 0\n",
      "Deaths               0\n",
      "dtype: int64\n"
     ]
    }
   ],
   "source": [
    "# Replace column headings with detailed fields\n",
    "confirmed2.columns = confirmed2.columns.str.replace('value', 'Confirmed')\n",
    "confirmed2.columns = confirmed2.columns.str.replace('Admin2', 'County')\n",
    "deaths2.columns = deaths2.columns.str.replace('value', 'Deaths')\n",
    "deaths2.columns = deaths2.columns.str.replace('Admin2', 'County')\n",
    "\n",
    "# Investigate NULLs before join\n",
    "print(confirmed2.isnull().sum())\n",
    "print(deaths2.isnull().sum())"
   ]
  },
  {
   "cell_type": "markdown",
   "metadata": {},
   "source": [
    "The null county values are due to the the District of Columbia, the 5 inhabited US territories (American Samoa, Guam, Northern Mariana Islands, Puerto Rico, US Virgin Islands) and the Grand Princess and Diamond Princess cruise ships having no counties. The null county value will be filled with the 'Province_State' name of the corresponding territory or cruise ship. "
   ]
  },
  {
   "cell_type": "code",
   "execution_count": 26,
   "metadata": {
    "scrolled": false
   },
   "outputs": [
    {
     "name": "stdout",
     "output_type": "stream",
     "text": [
      "\n",
      "The shape of confirmed is: (1584108, 8)\n",
      "The shape of deaths is: (1584108, 9)\n",
      "The shape of the joined dataframe is: (1584108, 10)\n"
     ]
    }
   ],
   "source": [
    "# Join the dataframes\n",
    "covid = confirmed2.merge(deaths2[['UID', 'Province_State', 'Country_Region', 'Date', 'Deaths', 'Population']],\n",
    "                         how='outer',\n",
    "                         left_on=['UID', 'Province_State',\n",
    "                                  'Country_Region', 'Date'],\n",
    "                         right_on=['UID', 'Province_State', 'Country_Region', 'Date'])\n",
    "\n",
    "# Investigate the shape of the dataframe after the join\n",
    "print('\\nThe shape of confirmed is:', confirmed2.shape)\n",
    "print('The shape of deaths is:', deaths2.shape)\n",
    "print('The shape of the joined dataframe is:', covid.shape)\n",
    "\n",
    "# print(covid.isnull().sum())\n",
    "# covid.tail()"
   ]
  },
  {
   "cell_type": "markdown",
   "metadata": {},
   "source": [
    "The joined dataframe \"covid\" has 10 columns because Deaths and Population has been added to the confirmed dataframe. "
   ]
  },
  {
   "cell_type": "code",
   "execution_count": 27,
   "metadata": {
    "scrolled": true
   },
   "outputs": [
    {
     "data": {
      "text/plain": [
       "UID               0\n",
       "County            0\n",
       "Province_State    0\n",
       "Country_Region    0\n",
       "Lat               0\n",
       "Long_             0\n",
       "Date              0\n",
       "Confirmed         0\n",
       "Deaths            0\n",
       "Population        0\n",
       "dtype: int64"
      ]
     },
     "execution_count": 27,
     "metadata": {},
     "output_type": "execute_result"
    }
   ],
   "source": [
    "# Fill County NaN values with Province_State values (Applies only to DC, US territories, and cruise ships)\n",
    "covid['County'].fillna(covid['Province_State'], inplace=True)\n",
    "\n",
    "# covid.head()\n",
    "covid.isnull().sum()"
   ]
  },
  {
   "cell_type": "code",
   "execution_count": 28,
   "metadata": {},
   "outputs": [],
   "source": [
    "# Add Month-Year column\n",
    "covid['Month-Year'] = covid['Date'].dt.strftime('%b-%Y')\n",
    "# covid.tail()"
   ]
  },
  {
   "cell_type": "code",
   "execution_count": 29,
   "metadata": {},
   "outputs": [
    {
     "name": "stdout",
     "output_type": "stream",
     "text": [
      "(1584108, 15)\n"
     ]
    }
   ],
   "source": [
    "# Copy df\n",
    "temp = covid.copy()\n",
    "\n",
    "# Create columns for previous date's COVID-19 cases to create daily aggregates and a running total\n",
    "temp['Current Date'] = covid['Date'] + pd.Timedelta(days=1)\n",
    "temp.rename(columns={'Confirmed': 'Confirmed - 1',\n",
    "                     'Deaths': 'Deaths - 1', 'Date': 'Date - 1'}, inplace=True)\n",
    "\n",
    "# Perform left join on DFs\n",
    "covid_19 = covid.merge(temp[['UID', 'Province_State', 'Country_Region', 'Confirmed - 1', 'Deaths - 1',\n",
    "                             'Current Date', 'Date - 1']], how='left',\n",
    "                       left_on=['UID', 'Province_State',\n",
    "                                'Country_Region', 'Date'],\n",
    "                       right_on=['UID', 'Province_State', 'Country_Region', 'Current Date'])\n",
    "print(covid_19.shape)\n",
    "# covid_19.head()"
   ]
  },
  {
   "cell_type": "code",
   "execution_count": 30,
   "metadata": {},
   "outputs": [
    {
     "name": "stdout",
     "output_type": "stream",
     "text": [
      "(1584108, 17)\n"
     ]
    }
   ],
   "source": [
    "# Calculate the daily numbers for confirmed cases & deaths (current aggregate - previous aggregate = daily confirmed)\n",
    "covid_19['Daily Confirmed'] = covid_19['Confirmed'] - covid_19['Confirmed - 1']\n",
    "covid_19['Daily Deaths'] = covid_19['Deaths'] - covid_19['Deaths - 1']\n",
    "\n",
    "print(covid_19.shape)\n",
    "# covid_19.head()"
   ]
  },
  {
   "cell_type": "code",
   "execution_count": 31,
   "metadata": {
    "scrolled": false
   },
   "outputs": [
    {
     "name": "stdout",
     "output_type": "stream",
     "text": [
      "(1584108, 13)\n"
     ]
    }
   ],
   "source": [
    "# Include daily numbers for the first day of data where there is no previous date available (2020-01-22)\n",
    "covid_19['Daily Confirmed'].loc[covid_19['Date'] == '2020-01-22'] = covid_19['Confirmed']\n",
    "covid_19['Daily Deaths'].loc[covid_19['Date'] == '2020-01-22'] = covid_19['Deaths']\n",
    "\n",
    "# Delete unnecessary columns\n",
    "covid_19.drop(['Confirmed - 1', 'Deaths - 1', 'Current Date', 'Date - 1'], axis=1, inplace=True)\n",
    "print(covid_19.shape)\n",
    "#covid_19.head()"
   ]
  },
  {
   "cell_type": "code",
   "execution_count": 32,
   "metadata": {},
   "outputs": [
    {
     "data": {
      "text/html": [
       "<div>\n",
       "<style scoped>\n",
       "    .dataframe tbody tr th:only-of-type {\n",
       "        vertical-align: middle;\n",
       "    }\n",
       "\n",
       "    .dataframe tbody tr th {\n",
       "        vertical-align: top;\n",
       "    }\n",
       "\n",
       "    .dataframe thead th {\n",
       "        text-align: right;\n",
       "    }\n",
       "</style>\n",
       "<table border=\"1\" class=\"dataframe\">\n",
       "  <thead>\n",
       "    <tr style=\"text-align: right;\">\n",
       "      <th></th>\n",
       "      <th>Province_State</th>\n",
       "      <th>Week Number</th>\n",
       "      <th>Weekly Confirmed</th>\n",
       "      <th>Weekly Deaths</th>\n",
       "    </tr>\n",
       "  </thead>\n",
       "  <tbody>\n",
       "    <tr>\n",
       "      <td>68</td>\n",
       "      <td>Alabama</td>\n",
       "      <td>2021-18</td>\n",
       "      <td>2391.0</td>\n",
       "      <td>65.0</td>\n",
       "    </tr>\n",
       "    <tr>\n",
       "      <td>137</td>\n",
       "      <td>Alaska</td>\n",
       "      <td>2021-18</td>\n",
       "      <td>732.0</td>\n",
       "      <td>2.0</td>\n",
       "    </tr>\n",
       "    <tr>\n",
       "      <td>206</td>\n",
       "      <td>American Samoa</td>\n",
       "      <td>2021-18</td>\n",
       "      <td>0.0</td>\n",
       "      <td>0.0</td>\n",
       "    </tr>\n",
       "    <tr>\n",
       "      <td>275</td>\n",
       "      <td>Arizona</td>\n",
       "      <td>2021-18</td>\n",
       "      <td>4903.0</td>\n",
       "      <td>65.0</td>\n",
       "    </tr>\n",
       "    <tr>\n",
       "      <td>344</td>\n",
       "      <td>Arkansas</td>\n",
       "      <td>2021-18</td>\n",
       "      <td>1405.0</td>\n",
       "      <td>18.0</td>\n",
       "    </tr>\n",
       "  </tbody>\n",
       "</table>\n",
       "</div>"
      ],
      "text/plain": [
       "     Province_State Week Number  Weekly Confirmed  Weekly Deaths\n",
       "68          Alabama     2021-18            2391.0           65.0\n",
       "137          Alaska     2021-18             732.0            2.0\n",
       "206  American Samoa     2021-18               0.0            0.0\n",
       "275         Arizona     2021-18            4903.0           65.0\n",
       "344        Arkansas     2021-18            1405.0           18.0"
      ]
     },
     "execution_count": 32,
     "metadata": {},
     "output_type": "execute_result"
    }
   ],
   "source": [
    "# Add Week Number column \n",
    "covid_19['Week Number'] = covid_19['Date'].dt.strftime('%Y-%W')\n",
    "\n",
    "# Calculate weekly sum by state (Week is Monday-Sunday)\n",
    "weekly_covid = covid_19.groupby(['Province_State', 'Week Number']).agg(\n",
    "    {'Daily Confirmed': 'sum', 'Daily Deaths': 'sum'}).reset_index()\n",
    "\n",
    "# Rename 'Daily' metrics to 'Weekly' metrics\n",
    "weekly_covid.columns = weekly_covid.columns.str.replace(\n",
    "    'Daily Confirmed', 'Weekly Confirmed')\n",
    "weekly_covid.columns = weekly_covid.columns.str.replace(\n",
    "    'Daily Deaths', 'Weekly Deaths')\n",
    "\n",
    "# View most recent weekly numbers by state/territory\n",
    "weekly_covid[weekly_covid['Week Number'] == weekly_covid['Week Number'].max()].head()"
   ]
  },
  {
   "cell_type": "code",
   "execution_count": 33,
   "metadata": {},
   "outputs": [],
   "source": [
    "# Calculate the weekly percentage change in confirmed cases and deaths for each state\n",
    "weekly_change = weekly_covid.groupby(['Province_State', 'Week Number']).agg(\n",
    "    {'Weekly Confirmed': 'sum', 'Weekly Deaths': 'sum'}).pct_change().reset_index()"
   ]
  },
  {
   "cell_type": "code",
   "execution_count": 34,
   "metadata": {
    "scrolled": false
   },
   "outputs": [
    {
     "data": {
      "text/html": [
       "<div>\n",
       "<style scoped>\n",
       "    .dataframe tbody tr th:only-of-type {\n",
       "        vertical-align: middle;\n",
       "    }\n",
       "\n",
       "    .dataframe tbody tr th {\n",
       "        vertical-align: top;\n",
       "    }\n",
       "\n",
       "    .dataframe thead th {\n",
       "        text-align: right;\n",
       "    }\n",
       "</style>\n",
       "<table border=\"1\" class=\"dataframe\">\n",
       "  <thead>\n",
       "    <tr style=\"text-align: right;\">\n",
       "      <th></th>\n",
       "      <th>Province_State</th>\n",
       "      <th>Week Number</th>\n",
       "      <th>Weekly Confirmed</th>\n",
       "      <th>Weekly Deaths</th>\n",
       "      <th>Weekly Confirmed % Change</th>\n",
       "      <th>Weekly Deaths % Change</th>\n",
       "    </tr>\n",
       "  </thead>\n",
       "  <tbody>\n",
       "    <tr>\n",
       "      <td>3997</td>\n",
       "      <td>Wyoming</td>\n",
       "      <td>2021-14</td>\n",
       "      <td>426.0</td>\n",
       "      <td>1.0</td>\n",
       "      <td>0.062344</td>\n",
       "      <td>-0.8</td>\n",
       "    </tr>\n",
       "    <tr>\n",
       "      <td>3998</td>\n",
       "      <td>Wyoming</td>\n",
       "      <td>2021-15</td>\n",
       "      <td>394.0</td>\n",
       "      <td>2.0</td>\n",
       "      <td>-0.075117</td>\n",
       "      <td>1.0</td>\n",
       "    </tr>\n",
       "    <tr>\n",
       "      <td>3999</td>\n",
       "      <td>Wyoming</td>\n",
       "      <td>2021-16</td>\n",
       "      <td>429.0</td>\n",
       "      <td>2.0</td>\n",
       "      <td>0.088832</td>\n",
       "      <td>0.0</td>\n",
       "    </tr>\n",
       "    <tr>\n",
       "      <td>4000</td>\n",
       "      <td>Wyoming</td>\n",
       "      <td>2021-17</td>\n",
       "      <td>446.0</td>\n",
       "      <td>2.0</td>\n",
       "      <td>0.039627</td>\n",
       "      <td>0.0</td>\n",
       "    </tr>\n",
       "    <tr>\n",
       "      <td>4001</td>\n",
       "      <td>Wyoming</td>\n",
       "      <td>2021-18</td>\n",
       "      <td>481.0</td>\n",
       "      <td>3.0</td>\n",
       "      <td>0.078475</td>\n",
       "      <td>0.5</td>\n",
       "    </tr>\n",
       "  </tbody>\n",
       "</table>\n",
       "</div>"
      ],
      "text/plain": [
       "     Province_State Week Number  Weekly Confirmed  Weekly Deaths  \\\n",
       "3997        Wyoming     2021-14             426.0            1.0   \n",
       "3998        Wyoming     2021-15             394.0            2.0   \n",
       "3999        Wyoming     2021-16             429.0            2.0   \n",
       "4000        Wyoming     2021-17             446.0            2.0   \n",
       "4001        Wyoming     2021-18             481.0            3.0   \n",
       "\n",
       "      Weekly Confirmed % Change  Weekly Deaths % Change  \n",
       "3997                   0.062344                    -0.8  \n",
       "3998                  -0.075117                     1.0  \n",
       "3999                   0.088832                     0.0  \n",
       "4000                   0.039627                     0.0  \n",
       "4001                   0.078475                     0.5  "
      ]
     },
     "execution_count": 34,
     "metadata": {},
     "output_type": "execute_result"
    }
   ],
   "source": [
    "# Add the weekly percentage change calculated above to the weekly_covid dataframe\n",
    "weekly_covid[['Weekly Confirmed % Change', 'Weekly Deaths % Change']\n",
    "             ] = weekly_change[['Weekly Confirmed', 'Weekly Deaths']]\n",
    "\n",
    "# Replace NaN with 0 (zero percent change from prior week)\n",
    "weekly_covid.replace(np.nan, 0, inplace=True)\n",
    "weekly_covid.tail()"
   ]
  },
  {
   "cell_type": "code",
   "execution_count": 35,
   "metadata": {},
   "outputs": [
    {
     "name": "stdout",
     "output_type": "stream",
     "text": [
      "             Weekly Confirmed  Weekly Deaths\n",
      "Week Number                                 \n",
      "2021-14              488752.0         6886.0\n",
      "2021-15              472154.0         5064.0\n",
      "2021-16              407147.0         4914.0\n",
      "2021-17              344463.0         4705.0\n",
      "2021-18              286109.0         4528.0\n"
     ]
    }
   ],
   "source": [
    "# Check the most recent US daily confirmed cases and deaths\n",
    "daily_sum = covid_19.groupby(['Date']).sum()[['Daily Confirmed','Daily Deaths']]\n",
    "#print(daily_sum.tail())\n",
    "\n",
    "# Check the most recent US weekly confirmed cases and deaths \n",
    "weekly_sum = weekly_covid.groupby('Week Number').sum()[['Weekly Confirmed','Weekly Deaths']]\n",
    "print(weekly_sum.tail())"
   ]
  },
  {
   "cell_type": "code",
   "execution_count": 36,
   "metadata": {},
   "outputs": [],
   "source": [
    "# Export Data as csv to load into Power BI\n",
    "covid_19.to_csv('UScovid', sep='\\t')\n",
    "weekly_covid.to_csv('weekly_covid', sep='\\t')"
   ]
  }
 ],
 "metadata": {
  "kernelspec": {
   "display_name": "Python 3",
   "language": "python",
   "name": "python3"
  },
  "language_info": {
   "codemirror_mode": {
    "name": "ipython",
    "version": 3
   },
   "file_extension": ".py",
   "mimetype": "text/x-python",
   "name": "python",
   "nbconvert_exporter": "python",
   "pygments_lexer": "ipython3",
   "version": "3.7.4"
  },
  "toc": {
   "base_numbering": 1,
   "nav_menu": {},
   "number_sections": true,
   "sideBar": true,
   "skip_h1_title": true,
   "title_cell": "Table of Contents",
   "title_sidebar": "Contents",
   "toc_cell": false,
   "toc_position": {
    "height": "calc(100% - 180px)",
    "left": "10px",
    "top": "150px",
    "width": "189.333px"
   },
   "toc_section_display": true,
   "toc_window_display": false
  }
 },
 "nbformat": 4,
 "nbformat_minor": 4
}
