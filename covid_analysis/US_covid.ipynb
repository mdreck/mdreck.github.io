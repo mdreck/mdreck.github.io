{
 "cells": [
  {
   "cell_type": "markdown",
   "metadata": {},
   "source": [
    "# COVID-19: United States Confirmed Cases & Deaths "
   ]
  },
  {
   "cell_type": "markdown",
   "metadata": {},
   "source": [
    "The following data cleaning and merging is performed to load the data into Power BI for further visualization and analysis."
   ]
  },
  {
   "cell_type": "code",
   "execution_count": 1,
   "metadata": {},
   "outputs": [],
   "source": [
    "# Packages / libraries\n",
    "import os\n",
    "import numpy as np\n",
    "import pandas as pd\n",
    "from datetime import datetime\n",
    "\n",
    "import warnings\n",
    "warnings.filterwarnings('ignore')"
   ]
  },
  {
   "cell_type": "markdown",
   "metadata": {},
   "source": [
    "The data collected for this analysis is operated by the Johns Hopkins University Center for Systems Science and Engineering (https://github.com/CSSEGISandData/COVID-19/tree/master/csse_covid_19_data/csse_covid_19_time_series)"
   ]
  },
  {
   "cell_type": "code",
   "execution_count": 2,
   "metadata": {
    "scrolled": false
   },
   "outputs": [
    {
     "name": "stdout",
     "output_type": "stream",
     "text": [
      "The shape of confirmed is: (3342, 527)\n",
      "The shape of deaths is: (3342, 528)\n"
     ]
    },
    {
     "data": {
      "text/html": [
       "<div>\n",
       "<style scoped>\n",
       "    .dataframe tbody tr th:only-of-type {\n",
       "        vertical-align: middle;\n",
       "    }\n",
       "\n",
       "    .dataframe tbody tr th {\n",
       "        vertical-align: top;\n",
       "    }\n",
       "\n",
       "    .dataframe thead th {\n",
       "        text-align: right;\n",
       "    }\n",
       "</style>\n",
       "<table border=\"1\" class=\"dataframe\">\n",
       "  <thead>\n",
       "    <tr style=\"text-align: right;\">\n",
       "      <th></th>\n",
       "      <th>UID</th>\n",
       "      <th>iso2</th>\n",
       "      <th>iso3</th>\n",
       "      <th>code3</th>\n",
       "      <th>FIPS</th>\n",
       "      <th>Admin2</th>\n",
       "      <th>Province_State</th>\n",
       "      <th>Country_Region</th>\n",
       "      <th>Lat</th>\n",
       "      <th>Long_</th>\n",
       "      <th>...</th>\n",
       "      <th>6/11/21</th>\n",
       "      <th>6/12/21</th>\n",
       "      <th>6/13/21</th>\n",
       "      <th>6/14/21</th>\n",
       "      <th>6/15/21</th>\n",
       "      <th>6/16/21</th>\n",
       "      <th>6/17/21</th>\n",
       "      <th>6/18/21</th>\n",
       "      <th>6/19/21</th>\n",
       "      <th>6/20/21</th>\n",
       "    </tr>\n",
       "  </thead>\n",
       "  <tbody>\n",
       "    <tr>\n",
       "      <td>0</td>\n",
       "      <td>84001001</td>\n",
       "      <td>US</td>\n",
       "      <td>USA</td>\n",
       "      <td>840</td>\n",
       "      <td>1001.0</td>\n",
       "      <td>Autauga</td>\n",
       "      <td>Alabama</td>\n",
       "      <td>US</td>\n",
       "      <td>32.539527</td>\n",
       "      <td>-86.644082</td>\n",
       "      <td>...</td>\n",
       "      <td>7215</td>\n",
       "      <td>7215</td>\n",
       "      <td>7215</td>\n",
       "      <td>7229</td>\n",
       "      <td>7230</td>\n",
       "      <td>7230</td>\n",
       "      <td>7230</td>\n",
       "      <td>7241</td>\n",
       "      <td>7241</td>\n",
       "      <td>7241</td>\n",
       "    </tr>\n",
       "    <tr>\n",
       "      <td>1</td>\n",
       "      <td>84001003</td>\n",
       "      <td>US</td>\n",
       "      <td>USA</td>\n",
       "      <td>840</td>\n",
       "      <td>1003.0</td>\n",
       "      <td>Baldwin</td>\n",
       "      <td>Alabama</td>\n",
       "      <td>US</td>\n",
       "      <td>30.727750</td>\n",
       "      <td>-87.722071</td>\n",
       "      <td>...</td>\n",
       "      <td>21774</td>\n",
       "      <td>21774</td>\n",
       "      <td>21774</td>\n",
       "      <td>21805</td>\n",
       "      <td>21833</td>\n",
       "      <td>21839</td>\n",
       "      <td>21839</td>\n",
       "      <td>21868</td>\n",
       "      <td>21868</td>\n",
       "      <td>21868</td>\n",
       "    </tr>\n",
       "    <tr>\n",
       "      <td>2</td>\n",
       "      <td>84001005</td>\n",
       "      <td>US</td>\n",
       "      <td>USA</td>\n",
       "      <td>840</td>\n",
       "      <td>1005.0</td>\n",
       "      <td>Barbour</td>\n",
       "      <td>Alabama</td>\n",
       "      <td>US</td>\n",
       "      <td>31.868263</td>\n",
       "      <td>-85.387129</td>\n",
       "      <td>...</td>\n",
       "      <td>2345</td>\n",
       "      <td>2345</td>\n",
       "      <td>2345</td>\n",
       "      <td>2345</td>\n",
       "      <td>2346</td>\n",
       "      <td>2346</td>\n",
       "      <td>2346</td>\n",
       "      <td>2345</td>\n",
       "      <td>2345</td>\n",
       "      <td>2345</td>\n",
       "    </tr>\n",
       "    <tr>\n",
       "      <td>3</td>\n",
       "      <td>84001007</td>\n",
       "      <td>US</td>\n",
       "      <td>USA</td>\n",
       "      <td>840</td>\n",
       "      <td>1007.0</td>\n",
       "      <td>Bibb</td>\n",
       "      <td>Alabama</td>\n",
       "      <td>US</td>\n",
       "      <td>32.996421</td>\n",
       "      <td>-87.125115</td>\n",
       "      <td>...</td>\n",
       "      <td>2673</td>\n",
       "      <td>2673</td>\n",
       "      <td>2673</td>\n",
       "      <td>2676</td>\n",
       "      <td>2682</td>\n",
       "      <td>2684</td>\n",
       "      <td>2684</td>\n",
       "      <td>2685</td>\n",
       "      <td>2685</td>\n",
       "      <td>2685</td>\n",
       "    </tr>\n",
       "    <tr>\n",
       "      <td>4</td>\n",
       "      <td>84001009</td>\n",
       "      <td>US</td>\n",
       "      <td>USA</td>\n",
       "      <td>840</td>\n",
       "      <td>1009.0</td>\n",
       "      <td>Blount</td>\n",
       "      <td>Alabama</td>\n",
       "      <td>US</td>\n",
       "      <td>33.982109</td>\n",
       "      <td>-86.567906</td>\n",
       "      <td>...</td>\n",
       "      <td>6925</td>\n",
       "      <td>6925</td>\n",
       "      <td>6925</td>\n",
       "      <td>6937</td>\n",
       "      <td>6938</td>\n",
       "      <td>6944</td>\n",
       "      <td>6944</td>\n",
       "      <td>6945</td>\n",
       "      <td>6945</td>\n",
       "      <td>6945</td>\n",
       "    </tr>\n",
       "  </tbody>\n",
       "</table>\n",
       "<p>5 rows × 527 columns</p>\n",
       "</div>"
      ],
      "text/plain": [
       "        UID iso2 iso3  code3    FIPS   Admin2 Province_State Country_Region  \\\n",
       "0  84001001   US  USA    840  1001.0  Autauga        Alabama             US   \n",
       "1  84001003   US  USA    840  1003.0  Baldwin        Alabama             US   \n",
       "2  84001005   US  USA    840  1005.0  Barbour        Alabama             US   \n",
       "3  84001007   US  USA    840  1007.0     Bibb        Alabama             US   \n",
       "4  84001009   US  USA    840  1009.0   Blount        Alabama             US   \n",
       "\n",
       "         Lat      Long_  ... 6/11/21  6/12/21  6/13/21  6/14/21  6/15/21  \\\n",
       "0  32.539527 -86.644082  ...    7215     7215     7215     7229     7230   \n",
       "1  30.727750 -87.722071  ...   21774    21774    21774    21805    21833   \n",
       "2  31.868263 -85.387129  ...    2345     2345     2345     2345     2346   \n",
       "3  32.996421 -87.125115  ...    2673     2673     2673     2676     2682   \n",
       "4  33.982109 -86.567906  ...    6925     6925     6925     6937     6938   \n",
       "\n",
       "   6/16/21  6/17/21  6/18/21  6/19/21  6/20/21  \n",
       "0     7230     7230     7241     7241     7241  \n",
       "1    21839    21839    21868    21868    21868  \n",
       "2     2346     2346     2345     2345     2345  \n",
       "3     2684     2684     2685     2685     2685  \n",
       "4     6944     6944     6945     6945     6945  \n",
       "\n",
       "[5 rows x 527 columns]"
      ]
     },
     "execution_count": 2,
     "metadata": {},
     "output_type": "execute_result"
    }
   ],
   "source": [
    "# load raw data from https://github.com/CSSEGISandData/COVID-19/tree/master/csse_covid_19_data/csse_covid_19_time_series\n",
    "confirmed = pd.read_csv(\"C:/Users/garcr/Desktop/time_series_covid19_confirmed_US.csv\")\n",
    "deaths = pd.read_csv(\"C:/Users/garcr/Desktop/time_series_covid19_deaths_US.csv\")\n",
    "\n",
    "# Confirm that the dataframes have the same number of rows (countries) and columns (dates)\n",
    "# Deaths dataframe has an extra column 'Population'\n",
    "print('The shape of confirmed is:', confirmed.shape)\n",
    "print('The shape of deaths is:', deaths.shape)\n",
    "\n",
    "confirmed.head()\n",
    "#deaths.head()"
   ]
  },
  {
   "cell_type": "code",
   "execution_count": 3,
   "metadata": {
    "scrolled": true
   },
   "outputs": [],
   "source": [
    "# Drop unnecessary columns\n",
    "confirmed.drop(['iso2','iso3','code3','FIPS','Combined_Key'], axis=1, inplace=True)\n",
    "deaths.drop(['iso2','iso3','code3','FIPS','Combined_Key'], axis=1, inplace=True)\n",
    "\n",
    "#confirmed.head()\n",
    "#deaths.head()"
   ]
  },
  {
   "cell_type": "code",
   "execution_count": 4,
   "metadata": {},
   "outputs": [
    {
     "name": "stdout",
     "output_type": "stream",
     "text": [
      "The shape of confirmed is: (1724472, 8)\n",
      "The shape of deaths is: (1724472, 9)\n"
     ]
    }
   ],
   "source": [
    "# Melt the date columns into one column\n",
    "confirmed2 = pd.melt(confirmed, id_vars=[\n",
    "                     'UID', 'Admin2', 'Province_State', 'Country_Region', 'Lat', 'Long_'], var_name=['Date'])\n",
    "deaths2 = pd.melt(deaths, id_vars=['UID', 'Admin2', 'Province_State',\n",
    "                                   'Country_Region', 'Lat', 'Long_', 'Population'], var_name=['Date'])\n",
    "\n",
    "print('The shape of confirmed is:', confirmed2.shape)\n",
    "print('The shape of deaths is:', deaths2.shape)\n",
    "\n",
    "# confirmed2.head()"
   ]
  },
  {
   "cell_type": "code",
   "execution_count": 5,
   "metadata": {},
   "outputs": [],
   "source": [
    "# Convert Date column into datetime objects (xxxx-xx-xx)\n",
    "confirmed2['Date'] = pd.to_datetime(confirmed2['Date'])\n",
    "deaths2['Date'] = pd.to_datetime(deaths2['Date'])"
   ]
  },
  {
   "cell_type": "code",
   "execution_count": 6,
   "metadata": {},
   "outputs": [
    {
     "name": "stdout",
     "output_type": "stream",
     "text": [
      "UID                  0\n",
      "County            3096\n",
      "Province_State       0\n",
      "Country_Region       0\n",
      "Lat                  0\n",
      "Long_                0\n",
      "Date                 0\n",
      "Confirmed            0\n",
      "dtype: int64\n",
      "UID                  0\n",
      "County            3096\n",
      "Province_State       0\n",
      "Country_Region       0\n",
      "Lat                  0\n",
      "Long_                0\n",
      "Population           0\n",
      "Date                 0\n",
      "Deaths               0\n",
      "dtype: int64\n"
     ]
    }
   ],
   "source": [
    "# Replace column headings with detailed fields\n",
    "confirmed2.columns = confirmed2.columns.str.replace('value', 'Confirmed')\n",
    "confirmed2.columns = confirmed2.columns.str.replace('Admin2', 'County')\n",
    "deaths2.columns = deaths2.columns.str.replace('value', 'Deaths')\n",
    "deaths2.columns = deaths2.columns.str.replace('Admin2', 'County')\n",
    "\n",
    "# Investigate NULLs before join\n",
    "print(confirmed2.isnull().sum())\n",
    "print(deaths2.isnull().sum())"
   ]
  },
  {
   "cell_type": "markdown",
   "metadata": {},
   "source": [
    "The null county values are due to the the District of Columbia, the 5 inhabited US territories (American Samoa, Guam, Northern Mariana Islands, Puerto Rico, US Virgin Islands) and the Grand Princess and Diamond Princess cruise ships having no counties. The null county value will be filled with the 'Province_State' name of the corresponding territory or cruise ship. "
   ]
  },
  {
   "cell_type": "code",
   "execution_count": 7,
   "metadata": {
    "scrolled": false
   },
   "outputs": [
    {
     "name": "stdout",
     "output_type": "stream",
     "text": [
      "\n",
      "The shape of confirmed is: (1724472, 8)\n",
      "The shape of deaths is: (1724472, 9)\n",
      "The shape of the joined dataframe is: (1724472, 10)\n"
     ]
    }
   ],
   "source": [
    "# Join the dataframes\n",
    "covid = confirmed2.merge(deaths2[['UID', 'Province_State', 'Country_Region', 'Date', 'Deaths', 'Population']],\n",
    "                         how='outer',\n",
    "                         left_on=['UID', 'Province_State',\n",
    "                                  'Country_Region', 'Date'],\n",
    "                         right_on=['UID', 'Province_State', 'Country_Region', 'Date'])\n",
    "\n",
    "# Investigate the shape of the dataframe after the join\n",
    "print('\\nThe shape of confirmed is:', confirmed2.shape)\n",
    "print('The shape of deaths is:', deaths2.shape)\n",
    "print('The shape of the joined dataframe is:', covid.shape)\n",
    "\n",
    "# print(covid.isnull().sum())\n",
    "# covid.tail()"
   ]
  },
  {
   "cell_type": "markdown",
   "metadata": {},
   "source": [
    "The joined dataframe \"covid\" has 10 columns because Deaths and Population has been added to the confirmed dataframe. "
   ]
  },
  {
   "cell_type": "code",
   "execution_count": 8,
   "metadata": {
    "scrolled": true
   },
   "outputs": [
    {
     "data": {
      "text/plain": [
       "UID               0\n",
       "County            0\n",
       "Province_State    0\n",
       "Country_Region    0\n",
       "Lat               0\n",
       "Long_             0\n",
       "Date              0\n",
       "Confirmed         0\n",
       "Deaths            0\n",
       "Population        0\n",
       "dtype: int64"
      ]
     },
     "execution_count": 8,
     "metadata": {},
     "output_type": "execute_result"
    }
   ],
   "source": [
    "# Fill County NaN values with Province_State values (Applies only to DC, US territories, and cruise ships)\n",
    "covid['County'].fillna(covid['Province_State'], inplace=True)\n",
    "\n",
    "# covid.head()\n",
    "covid.isnull().sum()"
   ]
  },
  {
   "cell_type": "code",
   "execution_count": 9,
   "metadata": {},
   "outputs": [],
   "source": [
    "# Add Month-Year column\n",
    "covid['Month-Year'] = covid['Date'].dt.strftime('%b-%Y')\n",
    "# covid.tail()"
   ]
  },
  {
   "cell_type": "code",
   "execution_count": 10,
   "metadata": {},
   "outputs": [
    {
     "name": "stdout",
     "output_type": "stream",
     "text": [
      "(1724472, 15)\n"
     ]
    }
   ],
   "source": [
    "# Copy df\n",
    "temp = covid.copy()\n",
    "\n",
    "# Create columns for previous date's COVID-19 cases to create daily aggregates and a running total\n",
    "temp['Current Date'] = covid['Date'] + pd.Timedelta(days=1)\n",
    "temp.rename(columns={'Confirmed': 'Confirmed - 1',\n",
    "                     'Deaths': 'Deaths - 1', 'Date': 'Date - 1'}, inplace=True)\n",
    "\n",
    "# Perform left join on DFs\n",
    "covid_19 = covid.merge(temp[['UID', 'Province_State', 'Country_Region', 'Confirmed - 1', 'Deaths - 1',\n",
    "                             'Current Date', 'Date - 1']], how='left',\n",
    "                       left_on=['UID', 'Province_State',\n",
    "                                'Country_Region', 'Date'],\n",
    "                       right_on=['UID', 'Province_State', 'Country_Region', 'Current Date'])\n",
    "print(covid_19.shape)\n",
    "# covid_19.head()"
   ]
  },
  {
   "cell_type": "code",
   "execution_count": 11,
   "metadata": {},
   "outputs": [
    {
     "name": "stdout",
     "output_type": "stream",
     "text": [
      "(1724472, 17)\n"
     ]
    }
   ],
   "source": [
    "# Calculate the daily numbers for confirmed cases & deaths (current aggregate - previous aggregate = daily confirmed)\n",
    "covid_19['Daily Confirmed'] = covid_19['Confirmed'] - covid_19['Confirmed - 1']\n",
    "covid_19['Daily Deaths'] = covid_19['Deaths'] - covid_19['Deaths - 1']\n",
    "\n",
    "print(covid_19.shape)\n",
    "# covid_19.head()"
   ]
  },
  {
   "cell_type": "code",
   "execution_count": 12,
   "metadata": {
    "scrolled": false
   },
   "outputs": [
    {
     "name": "stdout",
     "output_type": "stream",
     "text": [
      "(1724472, 13)\n"
     ]
    }
   ],
   "source": [
    "# Include daily numbers for the first day of data where there is no previous date available (2020-01-22)\n",
    "covid_19['Daily Confirmed'].loc[covid_19['Date'] == '2020-01-22'] = covid_19['Confirmed']\n",
    "covid_19['Daily Deaths'].loc[covid_19['Date'] == '2020-01-22'] = covid_19['Deaths']\n",
    "\n",
    "# Delete unnecessary columns\n",
    "covid_19.drop(['Confirmed - 1', 'Deaths - 1', 'Current Date', 'Date - 1'], axis=1, inplace=True)\n",
    "print(covid_19.shape)\n",
    "#covid_19.head()"
   ]
  },
  {
   "cell_type": "code",
   "execution_count": 13,
   "metadata": {},
   "outputs": [
    {
     "data": {
      "text/html": [
       "<div>\n",
       "<style scoped>\n",
       "    .dataframe tbody tr th:only-of-type {\n",
       "        vertical-align: middle;\n",
       "    }\n",
       "\n",
       "    .dataframe tbody tr th {\n",
       "        vertical-align: top;\n",
       "    }\n",
       "\n",
       "    .dataframe thead th {\n",
       "        text-align: right;\n",
       "    }\n",
       "</style>\n",
       "<table border=\"1\" class=\"dataframe\">\n",
       "  <thead>\n",
       "    <tr style=\"text-align: right;\">\n",
       "      <th></th>\n",
       "      <th>Province_State</th>\n",
       "      <th>Week Number</th>\n",
       "      <th>Weekly Confirmed</th>\n",
       "      <th>Weekly Deaths</th>\n",
       "    </tr>\n",
       "  </thead>\n",
       "  <tbody>\n",
       "    <tr>\n",
       "      <td>74</td>\n",
       "      <td>Alabama</td>\n",
       "      <td>2021-24</td>\n",
       "      <td>1334.0</td>\n",
       "      <td>40.0</td>\n",
       "    </tr>\n",
       "    <tr>\n",
       "      <td>149</td>\n",
       "      <td>Alaska</td>\n",
       "      <td>2021-24</td>\n",
       "      <td>223.0</td>\n",
       "      <td>0.0</td>\n",
       "    </tr>\n",
       "    <tr>\n",
       "      <td>224</td>\n",
       "      <td>American Samoa</td>\n",
       "      <td>2021-24</td>\n",
       "      <td>0.0</td>\n",
       "      <td>0.0</td>\n",
       "    </tr>\n",
       "    <tr>\n",
       "      <td>299</td>\n",
       "      <td>Arizona</td>\n",
       "      <td>2021-24</td>\n",
       "      <td>2975.0</td>\n",
       "      <td>75.0</td>\n",
       "    </tr>\n",
       "    <tr>\n",
       "      <td>374</td>\n",
       "      <td>Arkansas</td>\n",
       "      <td>2021-24</td>\n",
       "      <td>1641.0</td>\n",
       "      <td>13.0</td>\n",
       "    </tr>\n",
       "  </tbody>\n",
       "</table>\n",
       "</div>"
      ],
      "text/plain": [
       "     Province_State Week Number  Weekly Confirmed  Weekly Deaths\n",
       "74          Alabama     2021-24            1334.0           40.0\n",
       "149          Alaska     2021-24             223.0            0.0\n",
       "224  American Samoa     2021-24               0.0            0.0\n",
       "299         Arizona     2021-24            2975.0           75.0\n",
       "374        Arkansas     2021-24            1641.0           13.0"
      ]
     },
     "execution_count": 13,
     "metadata": {},
     "output_type": "execute_result"
    }
   ],
   "source": [
    "# Add Week Number column \n",
    "covid_19['Week Number'] = covid_19['Date'].dt.strftime('%Y-%W')\n",
    "\n",
    "# Calculate weekly sum by state (Week is Monday-Sunday)\n",
    "weekly_covid = covid_19.groupby(['Province_State', 'Week Number']).agg(\n",
    "    {'Daily Confirmed': 'sum', 'Daily Deaths': 'sum'}).reset_index()\n",
    "\n",
    "# Rename 'Daily' metrics to 'Weekly' metrics\n",
    "weekly_covid.columns = weekly_covid.columns.str.replace(\n",
    "    'Daily Confirmed', 'Weekly Confirmed')\n",
    "weekly_covid.columns = weekly_covid.columns.str.replace(\n",
    "    'Daily Deaths', 'Weekly Deaths')\n",
    "\n",
    "# View most recent weekly numbers by state/territory\n",
    "weekly_covid[weekly_covid['Week Number'] == weekly_covid['Week Number'].max()].head()"
   ]
  },
  {
   "cell_type": "code",
   "execution_count": 14,
   "metadata": {},
   "outputs": [],
   "source": [
    "# Calculate the weekly percentage change in confirmed cases and deaths for each state\n",
    "weekly_change = weekly_covid.groupby(['Province_State', 'Week Number']).agg(\n",
    "    {'Weekly Confirmed': 'sum', 'Weekly Deaths': 'sum'}).pct_change().reset_index()"
   ]
  },
  {
   "cell_type": "code",
   "execution_count": 15,
   "metadata": {
    "scrolled": false
   },
   "outputs": [
    {
     "data": {
      "text/html": [
       "<div>\n",
       "<style scoped>\n",
       "    .dataframe tbody tr th:only-of-type {\n",
       "        vertical-align: middle;\n",
       "    }\n",
       "\n",
       "    .dataframe tbody tr th {\n",
       "        vertical-align: top;\n",
       "    }\n",
       "\n",
       "    .dataframe thead th {\n",
       "        text-align: right;\n",
       "    }\n",
       "</style>\n",
       "<table border=\"1\" class=\"dataframe\">\n",
       "  <thead>\n",
       "    <tr style=\"text-align: right;\">\n",
       "      <th></th>\n",
       "      <th>Province_State</th>\n",
       "      <th>Week Number</th>\n",
       "      <th>Weekly Confirmed</th>\n",
       "      <th>Weekly Deaths</th>\n",
       "      <th>Weekly Confirmed % Change</th>\n",
       "      <th>Weekly Deaths % Change</th>\n",
       "    </tr>\n",
       "  </thead>\n",
       "  <tbody>\n",
       "    <tr>\n",
       "      <td>4345</td>\n",
       "      <td>Wyoming</td>\n",
       "      <td>2021-20</td>\n",
       "      <td>582.0</td>\n",
       "      <td>1.0</td>\n",
       "      <td>0.276316</td>\n",
       "      <td>-0.500000</td>\n",
       "    </tr>\n",
       "    <tr>\n",
       "      <td>4346</td>\n",
       "      <td>Wyoming</td>\n",
       "      <td>2021-21</td>\n",
       "      <td>483.0</td>\n",
       "      <td>6.0</td>\n",
       "      <td>-0.170103</td>\n",
       "      <td>5.000000</td>\n",
       "    </tr>\n",
       "    <tr>\n",
       "      <td>4347</td>\n",
       "      <td>Wyoming</td>\n",
       "      <td>2021-22</td>\n",
       "      <td>484.0</td>\n",
       "      <td>1.0</td>\n",
       "      <td>0.002070</td>\n",
       "      <td>-0.833333</td>\n",
       "    </tr>\n",
       "    <tr>\n",
       "      <td>4348</td>\n",
       "      <td>Wyoming</td>\n",
       "      <td>2021-23</td>\n",
       "      <td>486.0</td>\n",
       "      <td>5.0</td>\n",
       "      <td>0.004132</td>\n",
       "      <td>4.000000</td>\n",
       "    </tr>\n",
       "    <tr>\n",
       "      <td>4349</td>\n",
       "      <td>Wyoming</td>\n",
       "      <td>2021-24</td>\n",
       "      <td>376.0</td>\n",
       "      <td>9.0</td>\n",
       "      <td>-0.226337</td>\n",
       "      <td>0.800000</td>\n",
       "    </tr>\n",
       "  </tbody>\n",
       "</table>\n",
       "</div>"
      ],
      "text/plain": [
       "     Province_State Week Number  Weekly Confirmed  Weekly Deaths  \\\n",
       "4345        Wyoming     2021-20             582.0            1.0   \n",
       "4346        Wyoming     2021-21             483.0            6.0   \n",
       "4347        Wyoming     2021-22             484.0            1.0   \n",
       "4348        Wyoming     2021-23             486.0            5.0   \n",
       "4349        Wyoming     2021-24             376.0            9.0   \n",
       "\n",
       "      Weekly Confirmed % Change  Weekly Deaths % Change  \n",
       "4345                   0.276316               -0.500000  \n",
       "4346                  -0.170103                5.000000  \n",
       "4347                   0.002070               -0.833333  \n",
       "4348                   0.004132                4.000000  \n",
       "4349                  -0.226337                0.800000  "
      ]
     },
     "execution_count": 15,
     "metadata": {},
     "output_type": "execute_result"
    }
   ],
   "source": [
    "# Add the weekly percentage change calculated above to the weekly_covid dataframe\n",
    "weekly_covid[['Weekly Confirmed % Change', 'Weekly Deaths % Change']\n",
    "             ] = weekly_change[['Weekly Confirmed', 'Weekly Deaths']]\n",
    "\n",
    "# Replace NaN with 0 (zero percent change from prior week)\n",
    "weekly_covid.replace(np.nan, 0, inplace=True)\n",
    "weekly_covid.tail()"
   ]
  },
  {
   "cell_type": "code",
   "execution_count": 16,
   "metadata": {},
   "outputs": [
    {
     "name": "stdout",
     "output_type": "stream",
     "text": [
      "             Weekly Confirmed  Weekly Deaths\n",
      "Week Number                                 \n",
      "2021-20              176530.0         3820.0\n",
      "2021-21              140574.0         4418.0\n",
      "2021-22              100869.0         3029.0\n",
      "2021-23               99403.0         2554.0\n",
      "2021-24               79884.0         1973.0\n"
     ]
    }
   ],
   "source": [
    "# Check the most recent US daily confirmed cases and deaths\n",
    "daily_sum = covid_19.groupby(['Date']).sum()[['Daily Confirmed','Daily Deaths']]\n",
    "#print(daily_sum.tail())\n",
    "\n",
    "# Check the most recent US weekly confirmed cases and deaths \n",
    "weekly_sum = weekly_covid.groupby('Week Number').sum()[['Weekly Confirmed','Weekly Deaths']]\n",
    "print(weekly_sum.tail())"
   ]
  },
  {
   "cell_type": "code",
   "execution_count": 17,
   "metadata": {},
   "outputs": [],
   "source": [
    "# Export Data as csv to load into Power BI\n",
    "covid_19.to_csv('UScovid', sep='\\t')\n",
    "weekly_covid.to_csv('weekly_covid', sep='\\t')"
   ]
  }
 ],
 "metadata": {
  "kernelspec": {
   "display_name": "Python 3",
   "language": "python",
   "name": "python3"
  },
  "language_info": {
   "codemirror_mode": {
    "name": "ipython",
    "version": 3
   },
   "file_extension": ".py",
   "mimetype": "text/x-python",
   "name": "python",
   "nbconvert_exporter": "python",
   "pygments_lexer": "ipython3",
   "version": "3.7.4"
  },
  "toc": {
   "base_numbering": 1,
   "nav_menu": {},
   "number_sections": true,
   "sideBar": true,
   "skip_h1_title": true,
   "title_cell": "Table of Contents",
   "title_sidebar": "Contents",
   "toc_cell": false,
   "toc_position": {
    "height": "calc(100% - 180px)",
    "left": "10px",
    "top": "150px",
    "width": "189.333px"
   },
   "toc_section_display": true,
   "toc_window_display": false
  }
 },
 "nbformat": 4,
 "nbformat_minor": 4
}
