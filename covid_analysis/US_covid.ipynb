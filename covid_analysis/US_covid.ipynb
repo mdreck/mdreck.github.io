{
 "cells": [
  {
   "cell_type": "markdown",
   "metadata": {},
   "source": [
    "# COVID-19: United States Confirmed Cases & Deaths "
   ]
  },
  {
   "cell_type": "markdown",
   "metadata": {},
   "source": [
    "The following data cleaning and merging is performed to load the data into Power BI for further visualization and analysis."
   ]
  },
  {
   "cell_type": "code",
   "execution_count": 1,
   "metadata": {},
   "outputs": [],
   "source": [
    "# Packages / libraries\n",
    "import os\n",
    "import numpy as np\n",
    "import pandas as pd\n",
    "from datetime import datetime\n",
    "\n",
    "import warnings\n",
    "warnings.filterwarnings('ignore')"
   ]
  },
  {
   "cell_type": "markdown",
   "metadata": {},
   "source": [
    "The data collected for this analysis is operated by the Johns Hopkins University Center for Systems Science and Engineering (https://github.com/CSSEGISandData/COVID-19/tree/master/csse_covid_19_data/csse_covid_19_time_series)"
   ]
  },
  {
   "cell_type": "code",
   "execution_count": 2,
   "metadata": {
    "scrolled": false
   },
   "outputs": [
    {
     "name": "stdout",
     "output_type": "stream",
     "text": [
      "The shape of confirmed is: (3340, 422)\n",
      "The shape of deaths is: (3340, 423)\n"
     ]
    },
    {
     "data": {
      "text/html": [
       "<div>\n",
       "<style scoped>\n",
       "    .dataframe tbody tr th:only-of-type {\n",
       "        vertical-align: middle;\n",
       "    }\n",
       "\n",
       "    .dataframe tbody tr th {\n",
       "        vertical-align: top;\n",
       "    }\n",
       "\n",
       "    .dataframe thead th {\n",
       "        text-align: right;\n",
       "    }\n",
       "</style>\n",
       "<table border=\"1\" class=\"dataframe\">\n",
       "  <thead>\n",
       "    <tr style=\"text-align: right;\">\n",
       "      <th></th>\n",
       "      <th>UID</th>\n",
       "      <th>iso2</th>\n",
       "      <th>iso3</th>\n",
       "      <th>code3</th>\n",
       "      <th>FIPS</th>\n",
       "      <th>Admin2</th>\n",
       "      <th>Province_State</th>\n",
       "      <th>Country_Region</th>\n",
       "      <th>Lat</th>\n",
       "      <th>Long_</th>\n",
       "      <th>...</th>\n",
       "      <th>2/26/21</th>\n",
       "      <th>2/27/21</th>\n",
       "      <th>2/28/21</th>\n",
       "      <th>3/1/21</th>\n",
       "      <th>3/2/21</th>\n",
       "      <th>3/3/21</th>\n",
       "      <th>3/4/21</th>\n",
       "      <th>3/5/21</th>\n",
       "      <th>3/6/21</th>\n",
       "      <th>3/7/21</th>\n",
       "    </tr>\n",
       "  </thead>\n",
       "  <tbody>\n",
       "    <tr>\n",
       "      <td>0</td>\n",
       "      <td>84001001</td>\n",
       "      <td>US</td>\n",
       "      <td>USA</td>\n",
       "      <td>840</td>\n",
       "      <td>1001.0</td>\n",
       "      <td>Autauga</td>\n",
       "      <td>Alabama</td>\n",
       "      <td>US</td>\n",
       "      <td>32.539527</td>\n",
       "      <td>-86.644082</td>\n",
       "      <td>...</td>\n",
       "      <td>6228</td>\n",
       "      <td>6248</td>\n",
       "      <td>6264</td>\n",
       "      <td>6270</td>\n",
       "      <td>6303</td>\n",
       "      <td>6313</td>\n",
       "      <td>6324</td>\n",
       "      <td>6333</td>\n",
       "      <td>6344</td>\n",
       "      <td>6347</td>\n",
       "    </tr>\n",
       "    <tr>\n",
       "      <td>1</td>\n",
       "      <td>84001003</td>\n",
       "      <td>US</td>\n",
       "      <td>USA</td>\n",
       "      <td>840</td>\n",
       "      <td>1003.0</td>\n",
       "      <td>Baldwin</td>\n",
       "      <td>Alabama</td>\n",
       "      <td>US</td>\n",
       "      <td>30.727750</td>\n",
       "      <td>-87.722071</td>\n",
       "      <td>...</td>\n",
       "      <td>19698</td>\n",
       "      <td>19714</td>\n",
       "      <td>19732</td>\n",
       "      <td>19758</td>\n",
       "      <td>19790</td>\n",
       "      <td>19856</td>\n",
       "      <td>19873</td>\n",
       "      <td>19890</td>\n",
       "      <td>19915</td>\n",
       "      <td>19935</td>\n",
       "    </tr>\n",
       "    <tr>\n",
       "      <td>2</td>\n",
       "      <td>84001005</td>\n",
       "      <td>US</td>\n",
       "      <td>USA</td>\n",
       "      <td>840</td>\n",
       "      <td>1005.0</td>\n",
       "      <td>Barbour</td>\n",
       "      <td>Alabama</td>\n",
       "      <td>US</td>\n",
       "      <td>31.868263</td>\n",
       "      <td>-85.387129</td>\n",
       "      <td>...</td>\n",
       "      <td>2106</td>\n",
       "      <td>2113</td>\n",
       "      <td>2115</td>\n",
       "      <td>2116</td>\n",
       "      <td>2124</td>\n",
       "      <td>2129</td>\n",
       "      <td>2136</td>\n",
       "      <td>2139</td>\n",
       "      <td>2138</td>\n",
       "      <td>2139</td>\n",
       "    </tr>\n",
       "    <tr>\n",
       "      <td>3</td>\n",
       "      <td>84001007</td>\n",
       "      <td>US</td>\n",
       "      <td>USA</td>\n",
       "      <td>840</td>\n",
       "      <td>1007.0</td>\n",
       "      <td>Bibb</td>\n",
       "      <td>Alabama</td>\n",
       "      <td>US</td>\n",
       "      <td>32.996421</td>\n",
       "      <td>-87.125115</td>\n",
       "      <td>...</td>\n",
       "      <td>2445</td>\n",
       "      <td>2449</td>\n",
       "      <td>2450</td>\n",
       "      <td>2450</td>\n",
       "      <td>2454</td>\n",
       "      <td>2459</td>\n",
       "      <td>2461</td>\n",
       "      <td>2457</td>\n",
       "      <td>2460</td>\n",
       "      <td>2465</td>\n",
       "    </tr>\n",
       "    <tr>\n",
       "      <td>4</td>\n",
       "      <td>84001009</td>\n",
       "      <td>US</td>\n",
       "      <td>USA</td>\n",
       "      <td>840</td>\n",
       "      <td>1009.0</td>\n",
       "      <td>Blount</td>\n",
       "      <td>Alabama</td>\n",
       "      <td>US</td>\n",
       "      <td>33.982109</td>\n",
       "      <td>-86.567906</td>\n",
       "      <td>...</td>\n",
       "      <td>6084</td>\n",
       "      <td>6095</td>\n",
       "      <td>6097</td>\n",
       "      <td>6102</td>\n",
       "      <td>6106</td>\n",
       "      <td>6229</td>\n",
       "      <td>6236</td>\n",
       "      <td>6246</td>\n",
       "      <td>6252</td>\n",
       "      <td>6256</td>\n",
       "    </tr>\n",
       "  </tbody>\n",
       "</table>\n",
       "<p>5 rows × 422 columns</p>\n",
       "</div>"
      ],
      "text/plain": [
       "        UID iso2 iso3  code3    FIPS   Admin2 Province_State Country_Region  \\\n",
       "0  84001001   US  USA    840  1001.0  Autauga        Alabama             US   \n",
       "1  84001003   US  USA    840  1003.0  Baldwin        Alabama             US   \n",
       "2  84001005   US  USA    840  1005.0  Barbour        Alabama             US   \n",
       "3  84001007   US  USA    840  1007.0     Bibb        Alabama             US   \n",
       "4  84001009   US  USA    840  1009.0   Blount        Alabama             US   \n",
       "\n",
       "         Lat      Long_  ... 2/26/21  2/27/21  2/28/21  3/1/21  3/2/21  \\\n",
       "0  32.539527 -86.644082  ...    6228     6248     6264    6270    6303   \n",
       "1  30.727750 -87.722071  ...   19698    19714    19732   19758   19790   \n",
       "2  31.868263 -85.387129  ...    2106     2113     2115    2116    2124   \n",
       "3  32.996421 -87.125115  ...    2445     2449     2450    2450    2454   \n",
       "4  33.982109 -86.567906  ...    6084     6095     6097    6102    6106   \n",
       "\n",
       "   3/3/21  3/4/21  3/5/21  3/6/21  3/7/21  \n",
       "0    6313    6324    6333    6344    6347  \n",
       "1   19856   19873   19890   19915   19935  \n",
       "2    2129    2136    2139    2138    2139  \n",
       "3    2459    2461    2457    2460    2465  \n",
       "4    6229    6236    6246    6252    6256  \n",
       "\n",
       "[5 rows x 422 columns]"
      ]
     },
     "execution_count": 2,
     "metadata": {},
     "output_type": "execute_result"
    }
   ],
   "source": [
    "# load raw data from https://github.com/CSSEGISandData/COVID-19/tree/master/csse_covid_19_data/csse_covid_19_time_series\n",
    "confirmed = pd.read_csv(\"C:/Users/garcr/Desktop/time_series_covid19_confirmed_US.csv\")\n",
    "deaths = pd.read_csv(\"C:/Users/garcr/Desktop/time_series_covid19_deaths_US.csv\")\n",
    "\n",
    "# Confirm that the dataframes have the same number of rows (countries) and columns (dates)\n",
    "# Deaths dataframe has an extra column 'Population'\n",
    "print('The shape of confirmed is:', confirmed.shape)\n",
    "print('The shape of deaths is:', deaths.shape)\n",
    "\n",
    "confirmed.head()\n",
    "#deaths.head()"
   ]
  },
  {
   "cell_type": "code",
   "execution_count": 3,
   "metadata": {
    "scrolled": true
   },
   "outputs": [],
   "source": [
    "# Drop unnecessary columns\n",
    "confirmed.drop(['iso2','iso3','code3','FIPS','Combined_Key'], axis=1, inplace=True)\n",
    "deaths.drop(['iso2','iso3','code3','FIPS','Combined_Key'], axis=1, inplace=True)\n",
    "\n",
    "#confirmed.head()\n",
    "#deaths.head()"
   ]
  },
  {
   "cell_type": "code",
   "execution_count": 4,
   "metadata": {},
   "outputs": [
    {
     "name": "stdout",
     "output_type": "stream",
     "text": [
      "The shape of confirmed is: (1372740, 8)\n",
      "The shape of deaths is: (1372740, 9)\n"
     ]
    }
   ],
   "source": [
    "# melt the date columns into one column\n",
    "confirmed2 = pd.melt(confirmed, id_vars=[\n",
    "                     'UID', 'Admin2', 'Province_State', 'Country_Region', 'Lat', 'Long_'], var_name=['Date'])\n",
    "deaths2 = pd.melt(deaths, id_vars=['UID', 'Admin2', 'Province_State',\n",
    "                                   'Country_Region', 'Lat', 'Long_', 'Population'], var_name=['Date'])\n",
    "\n",
    "print('The shape of confirmed is:', confirmed2.shape)\n",
    "print('The shape of deaths is:', deaths2.shape)\n",
    "\n",
    "# confirmed2.head()"
   ]
  },
  {
   "cell_type": "code",
   "execution_count": 5,
   "metadata": {},
   "outputs": [],
   "source": [
    "# convert Date column into datetime objects (xxxx-xx-xx)\n",
    "confirmed2['Date'] = pd.to_datetime(confirmed2['Date'])\n",
    "deaths2['Date'] = pd.to_datetime(deaths2['Date'])"
   ]
  },
  {
   "cell_type": "code",
   "execution_count": 6,
   "metadata": {},
   "outputs": [
    {
     "name": "stdout",
     "output_type": "stream",
     "text": [
      "UID                  0\n",
      "County            2466\n",
      "Province_State       0\n",
      "Country_Region       0\n",
      "Lat                  0\n",
      "Long_                0\n",
      "Date                 0\n",
      "Confirmed            0\n",
      "dtype: int64\n",
      "UID                  0\n",
      "County            2466\n",
      "Province_State       0\n",
      "Country_Region       0\n",
      "Lat                  0\n",
      "Long_                0\n",
      "Population           0\n",
      "Date                 0\n",
      "Deaths               0\n",
      "dtype: int64\n"
     ]
    }
   ],
   "source": [
    "# Replace column headings with detailed fields\n",
    "confirmed2.columns = confirmed2.columns.str.replace('value', 'Confirmed')\n",
    "confirmed2.columns = confirmed2.columns.str.replace('Admin2', 'County')\n",
    "deaths2.columns = deaths2.columns.str.replace('value', 'Deaths')\n",
    "deaths2.columns = deaths2.columns.str.replace('Admin2', 'County')\n",
    "\n",
    "# Investigate NULLs before join\n",
    "print(confirmed2.isnull().sum())\n",
    "print(deaths2.isnull().sum())"
   ]
  },
  {
   "cell_type": "markdown",
   "metadata": {},
   "source": [
    "The null county values are a result of the District of Columbia, and the 5 inhabited US territories (American Samoa, Guam, Northern Mariana Islands, Puerto Rico, US Virgin Islands) not having counties, in addition to the Grand Princess and Diamond Princess cruise ships. The null county value will be filled with the 'Province_State' name of the corresponding territory or cruise ship. "
   ]
  },
  {
   "cell_type": "code",
   "execution_count": 7,
   "metadata": {
    "scrolled": false
   },
   "outputs": [
    {
     "name": "stdout",
     "output_type": "stream",
     "text": [
      "\n",
      "The shape of confirmed is: (1372740, 8)\n",
      "The shape of deaths is: (1372740, 9)\n",
      "The shape of the joined dataframe is: (1372740, 10)\n"
     ]
    }
   ],
   "source": [
    "# Join the dataframes\n",
    "covid = confirmed2.merge(deaths2[['UID', 'Province_State', 'Country_Region', 'Date', 'Deaths', 'Population']],\n",
    "                         how='outer',\n",
    "                         left_on=['UID', 'Province_State',\n",
    "                                  'Country_Region', 'Date'],\n",
    "                         right_on=['UID', 'Province_State', 'Country_Region', 'Date'])\n",
    "\n",
    "# Investigate the shape of the dataframe after the join\n",
    "print('\\nThe shape of confirmed is:', confirmed2.shape)\n",
    "print('The shape of deaths is:', deaths2.shape)\n",
    "print('The shape of the joined dataframe is:', covid.shape)\n",
    "\n",
    "# print(covid.isnull().sum())\n",
    "# covid.tail()"
   ]
  },
  {
   "cell_type": "markdown",
   "metadata": {},
   "source": [
    "The joined dataframe \"covid\" has 10 columns because Deaths and Population has been added to the confirmed dataframe. "
   ]
  },
  {
   "cell_type": "code",
   "execution_count": 8,
   "metadata": {
    "scrolled": true
   },
   "outputs": [
    {
     "data": {
      "text/plain": [
       "UID               0\n",
       "County            0\n",
       "Province_State    0\n",
       "Country_Region    0\n",
       "Lat               0\n",
       "Long_             0\n",
       "Date              0\n",
       "Confirmed         0\n",
       "Deaths            0\n",
       "Population        0\n",
       "dtype: int64"
      ]
     },
     "execution_count": 8,
     "metadata": {},
     "output_type": "execute_result"
    }
   ],
   "source": [
    "# Fill County NaN values with Province_State values (Applies only to DC, US territories, and cruise ships)\n",
    "covid['County'].fillna(covid['Province_State'], inplace=True)\n",
    "\n",
    "# covid.head()\n",
    "covid.isnull().sum()"
   ]
  },
  {
   "cell_type": "code",
   "execution_count": 9,
   "metadata": {},
   "outputs": [],
   "source": [
    "# Add Month-Year column\n",
    "covid['Month-Year'] = covid['Date'].dt.strftime('%b-%Y')\n",
    "# covid.tail()"
   ]
  },
  {
   "cell_type": "code",
   "execution_count": 10,
   "metadata": {},
   "outputs": [
    {
     "name": "stdout",
     "output_type": "stream",
     "text": [
      "(1372740, 15)\n"
     ]
    }
   ],
   "source": [
    "# Copy df\n",
    "temp = covid.copy()\n",
    "\n",
    "# Create columns for previous date's COVID-19 cases to create daily numbers and a running total\n",
    "temp['Temp Date'] = covid['Date'] + pd.Timedelta(days=1)\n",
    "temp.rename(columns={'Confirmed': 'Confirmed - 1',\n",
    "                     'Deaths': 'Deaths - 1', 'Date': 'Date - 1'}, inplace=True)\n",
    "\n",
    "# Perform left join on DFs\n",
    "covid_19 = covid.merge(temp[['UID', 'Province_State', 'Country_Region', 'Confirmed - 1', 'Deaths - 1',\n",
    "                             'Temp Date', 'Date - 1']], how='left',\n",
    "                       left_on=['UID', 'Province_State',\n",
    "                                'Country_Region', 'Date'],\n",
    "                       right_on=['UID', 'Province_State', 'Country_Region', 'Temp Date'])\n",
    "print(covid_19.shape)\n",
    "# covid_19.head()"
   ]
  },
  {
   "cell_type": "code",
   "execution_count": 11,
   "metadata": {},
   "outputs": [
    {
     "name": "stdout",
     "output_type": "stream",
     "text": [
      "(1372740, 17)\n"
     ]
    }
   ],
   "source": [
    "# Calculate the daily numbers for confirmed cases & deaths (current aggregate - previous aggregate = daily confirmed)\n",
    "covid_19['Daily Confirmed'] = covid_19['Confirmed'] - covid_19['Confirmed - 1']\n",
    "covid_19['Daily Deaths'] = covid_19['Deaths'] - covid_19['Deaths - 1']\n",
    "\n",
    "print(covid_19.shape)\n",
    "# covid_19.head()"
   ]
  },
  {
   "cell_type": "code",
   "execution_count": 12,
   "metadata": {
    "scrolled": false
   },
   "outputs": [
    {
     "data": {
      "text/html": [
       "<div>\n",
       "<style scoped>\n",
       "    .dataframe tbody tr th:only-of-type {\n",
       "        vertical-align: middle;\n",
       "    }\n",
       "\n",
       "    .dataframe tbody tr th {\n",
       "        vertical-align: top;\n",
       "    }\n",
       "\n",
       "    .dataframe thead th {\n",
       "        text-align: right;\n",
       "    }\n",
       "</style>\n",
       "<table border=\"1\" class=\"dataframe\">\n",
       "  <thead>\n",
       "    <tr style=\"text-align: right;\">\n",
       "      <th></th>\n",
       "      <th>UID</th>\n",
       "      <th>County</th>\n",
       "      <th>Province_State</th>\n",
       "      <th>Country_Region</th>\n",
       "      <th>Lat</th>\n",
       "      <th>Long_</th>\n",
       "      <th>Date</th>\n",
       "      <th>Confirmed</th>\n",
       "      <th>Deaths</th>\n",
       "      <th>Population</th>\n",
       "      <th>Month-Year</th>\n",
       "      <th>Daily Confirmed</th>\n",
       "      <th>Daily Deaths</th>\n",
       "    </tr>\n",
       "  </thead>\n",
       "  <tbody>\n",
       "    <tr>\n",
       "      <td>0</td>\n",
       "      <td>84001001</td>\n",
       "      <td>Autauga</td>\n",
       "      <td>Alabama</td>\n",
       "      <td>US</td>\n",
       "      <td>32.539527</td>\n",
       "      <td>-86.644082</td>\n",
       "      <td>2020-01-22</td>\n",
       "      <td>0</td>\n",
       "      <td>0</td>\n",
       "      <td>55869</td>\n",
       "      <td>Jan-2020</td>\n",
       "      <td>0.0</td>\n",
       "      <td>0.0</td>\n",
       "    </tr>\n",
       "    <tr>\n",
       "      <td>1</td>\n",
       "      <td>84001003</td>\n",
       "      <td>Baldwin</td>\n",
       "      <td>Alabama</td>\n",
       "      <td>US</td>\n",
       "      <td>30.727750</td>\n",
       "      <td>-87.722071</td>\n",
       "      <td>2020-01-22</td>\n",
       "      <td>0</td>\n",
       "      <td>0</td>\n",
       "      <td>223234</td>\n",
       "      <td>Jan-2020</td>\n",
       "      <td>0.0</td>\n",
       "      <td>0.0</td>\n",
       "    </tr>\n",
       "    <tr>\n",
       "      <td>2</td>\n",
       "      <td>84001005</td>\n",
       "      <td>Barbour</td>\n",
       "      <td>Alabama</td>\n",
       "      <td>US</td>\n",
       "      <td>31.868263</td>\n",
       "      <td>-85.387129</td>\n",
       "      <td>2020-01-22</td>\n",
       "      <td>0</td>\n",
       "      <td>0</td>\n",
       "      <td>24686</td>\n",
       "      <td>Jan-2020</td>\n",
       "      <td>0.0</td>\n",
       "      <td>0.0</td>\n",
       "    </tr>\n",
       "    <tr>\n",
       "      <td>3</td>\n",
       "      <td>84001007</td>\n",
       "      <td>Bibb</td>\n",
       "      <td>Alabama</td>\n",
       "      <td>US</td>\n",
       "      <td>32.996421</td>\n",
       "      <td>-87.125115</td>\n",
       "      <td>2020-01-22</td>\n",
       "      <td>0</td>\n",
       "      <td>0</td>\n",
       "      <td>22394</td>\n",
       "      <td>Jan-2020</td>\n",
       "      <td>0.0</td>\n",
       "      <td>0.0</td>\n",
       "    </tr>\n",
       "    <tr>\n",
       "      <td>4</td>\n",
       "      <td>84001009</td>\n",
       "      <td>Blount</td>\n",
       "      <td>Alabama</td>\n",
       "      <td>US</td>\n",
       "      <td>33.982109</td>\n",
       "      <td>-86.567906</td>\n",
       "      <td>2020-01-22</td>\n",
       "      <td>0</td>\n",
       "      <td>0</td>\n",
       "      <td>57826</td>\n",
       "      <td>Jan-2020</td>\n",
       "      <td>0.0</td>\n",
       "      <td>0.0</td>\n",
       "    </tr>\n",
       "  </tbody>\n",
       "</table>\n",
       "</div>"
      ],
      "text/plain": [
       "        UID   County Province_State Country_Region        Lat      Long_  \\\n",
       "0  84001001  Autauga        Alabama             US  32.539527 -86.644082   \n",
       "1  84001003  Baldwin        Alabama             US  30.727750 -87.722071   \n",
       "2  84001005  Barbour        Alabama             US  31.868263 -85.387129   \n",
       "3  84001007     Bibb        Alabama             US  32.996421 -87.125115   \n",
       "4  84001009   Blount        Alabama             US  33.982109 -86.567906   \n",
       "\n",
       "        Date  Confirmed  Deaths  Population Month-Year  Daily Confirmed  \\\n",
       "0 2020-01-22          0       0       55869   Jan-2020              0.0   \n",
       "1 2020-01-22          0       0      223234   Jan-2020              0.0   \n",
       "2 2020-01-22          0       0       24686   Jan-2020              0.0   \n",
       "3 2020-01-22          0       0       22394   Jan-2020              0.0   \n",
       "4 2020-01-22          0       0       57826   Jan-2020              0.0   \n",
       "\n",
       "   Daily Deaths  \n",
       "0           0.0  \n",
       "1           0.0  \n",
       "2           0.0  \n",
       "3           0.0  \n",
       "4           0.0  "
      ]
     },
     "execution_count": 12,
     "metadata": {},
     "output_type": "execute_result"
    }
   ],
   "source": [
    "# Include daily numbers for the first day of data where there is no previous date available (2020-01-22)\n",
    "covid_19['Daily Confirmed'].loc[covid_19['Date'] == '2020-01-22'] = covid_19['Confirmed']\n",
    "covid_19['Daily Deaths'].loc[covid_19['Date'] == '2020-01-22'] = covid_19['Deaths']\n",
    "\n",
    "# Delete unnecessary columns\n",
    "del covid_19['Confirmed - 1'] \n",
    "del covid_19['Deaths - 1']\n",
    "del covid_19['Temp Date']\n",
    "del covid_19['Date - 1']\n",
    "\n",
    "covid_19.head()"
   ]
  },
  {
   "cell_type": "code",
   "execution_count": 13,
   "metadata": {},
   "outputs": [
    {
     "data": {
      "text/html": [
       "<div>\n",
       "<style scoped>\n",
       "    .dataframe tbody tr th:only-of-type {\n",
       "        vertical-align: middle;\n",
       "    }\n",
       "\n",
       "    .dataframe tbody tr th {\n",
       "        vertical-align: top;\n",
       "    }\n",
       "\n",
       "    .dataframe thead th {\n",
       "        text-align: right;\n",
       "    }\n",
       "</style>\n",
       "<table border=\"1\" class=\"dataframe\">\n",
       "  <thead>\n",
       "    <tr style=\"text-align: right;\">\n",
       "      <th></th>\n",
       "      <th>Province_State</th>\n",
       "      <th>Week Number</th>\n",
       "      <th>Weekly Confirmed</th>\n",
       "      <th>Weekly Deaths</th>\n",
       "    </tr>\n",
       "  </thead>\n",
       "  <tbody>\n",
       "    <tr>\n",
       "      <td>52</td>\n",
       "      <td>Alabama</td>\n",
       "      <td>52</td>\n",
       "      <td>15598.0</td>\n",
       "      <td>136.0</td>\n",
       "    </tr>\n",
       "    <tr>\n",
       "      <td>105</td>\n",
       "      <td>Alaska</td>\n",
       "      <td>52</td>\n",
       "      <td>1205.0</td>\n",
       "      <td>6.0</td>\n",
       "    </tr>\n",
       "    <tr>\n",
       "      <td>158</td>\n",
       "      <td>American Samoa</td>\n",
       "      <td>52</td>\n",
       "      <td>0.0</td>\n",
       "      <td>0.0</td>\n",
       "    </tr>\n",
       "    <tr>\n",
       "      <td>211</td>\n",
       "      <td>Arizona</td>\n",
       "      <td>52</td>\n",
       "      <td>25870.0</td>\n",
       "      <td>437.0</td>\n",
       "    </tr>\n",
       "    <tr>\n",
       "      <td>264</td>\n",
       "      <td>Arkansas</td>\n",
       "      <td>52</td>\n",
       "      <td>10261.0</td>\n",
       "      <td>194.0</td>\n",
       "    </tr>\n",
       "  </tbody>\n",
       "</table>\n",
       "</div>"
      ],
      "text/plain": [
       "     Province_State Week Number  Weekly Confirmed  Weekly Deaths\n",
       "52          Alabama          52           15598.0          136.0\n",
       "105          Alaska          52            1205.0            6.0\n",
       "158  American Samoa          52               0.0            0.0\n",
       "211         Arizona          52           25870.0          437.0\n",
       "264        Arkansas          52           10261.0          194.0"
      ]
     },
     "execution_count": 13,
     "metadata": {},
     "output_type": "execute_result"
    }
   ],
   "source": [
    "# calculate weekly sum by state (Monday-Sunday)\n",
    "weekly_covid = covid_19.groupby(['Province_State', covid_19['Date'].dt.strftime(\n",
    "    '%W')]).agg({'Daily Confirmed': 'sum', 'Daily Deaths': 'sum'}).reset_index()\n",
    "\n",
    "# replace 'Date' with 'Week Number' of the year\n",
    "weekly_covid.columns = weekly_covid.columns.str.replace('Date', 'Week Number')\n",
    "weekly_covid.columns = weekly_covid.columns.str.replace(\n",
    "    'Daily Confirmed', 'Weekly Confirmed')\n",
    "weekly_covid.columns = weekly_covid.columns.str.replace(\n",
    "    'Daily Deaths', 'Weekly Deaths')\n",
    "\n",
    "# view weekly numbers by state\n",
    "weekly_covid[weekly_covid['Week Number'] == weekly_covid['Week Number'].max()].head()\n",
    "\n"
   ]
  },
  {
   "cell_type": "code",
   "execution_count": 14,
   "metadata": {},
   "outputs": [],
   "source": [
    "# calculate the weekly percentage change in confirmed cases and deaths for each state\n",
    "weekly_change = weekly_covid.groupby(['Province_State', 'Week Number']).agg(\n",
    "    {'Weekly Confirmed': 'sum', 'Weekly Deaths': 'sum'}).pct_change().reset_index()\n",
    "#weekly_change"
   ]
  },
  {
   "cell_type": "code",
   "execution_count": 15,
   "metadata": {
    "scrolled": false
   },
   "outputs": [
    {
     "data": {
      "text/html": [
       "<div>\n",
       "<style scoped>\n",
       "    .dataframe tbody tr th:only-of-type {\n",
       "        vertical-align: middle;\n",
       "    }\n",
       "\n",
       "    .dataframe tbody tr th {\n",
       "        vertical-align: top;\n",
       "    }\n",
       "\n",
       "    .dataframe thead th {\n",
       "        text-align: right;\n",
       "    }\n",
       "</style>\n",
       "<table border=\"1\" class=\"dataframe\">\n",
       "  <thead>\n",
       "    <tr style=\"text-align: right;\">\n",
       "      <th></th>\n",
       "      <th>Province_State</th>\n",
       "      <th>Week Number</th>\n",
       "      <th>Weekly Confirmed</th>\n",
       "      <th>Weekly Deaths</th>\n",
       "      <th>Weekly Confirmed % Change</th>\n",
       "      <th>Weekly Deaths % Change</th>\n",
       "    </tr>\n",
       "  </thead>\n",
       "  <tbody>\n",
       "    <tr>\n",
       "      <td>3069</td>\n",
       "      <td>Wyoming</td>\n",
       "      <td>48</td>\n",
       "      <td>3828.0</td>\n",
       "      <td>51.0</td>\n",
       "      <td>-0.113889</td>\n",
       "      <td>0.307692</td>\n",
       "    </tr>\n",
       "    <tr>\n",
       "      <td>3070</td>\n",
       "      <td>Wyoming</td>\n",
       "      <td>49</td>\n",
       "      <td>3043.0</td>\n",
       "      <td>55.0</td>\n",
       "      <td>-0.205068</td>\n",
       "      <td>0.078431</td>\n",
       "    </tr>\n",
       "    <tr>\n",
       "      <td>3071</td>\n",
       "      <td>Wyoming</td>\n",
       "      <td>50</td>\n",
       "      <td>2302.0</td>\n",
       "      <td>30.0</td>\n",
       "      <td>-0.243510</td>\n",
       "      <td>-0.454545</td>\n",
       "    </tr>\n",
       "    <tr>\n",
       "      <td>3072</td>\n",
       "      <td>Wyoming</td>\n",
       "      <td>51</td>\n",
       "      <td>1538.0</td>\n",
       "      <td>22.0</td>\n",
       "      <td>-0.331885</td>\n",
       "      <td>-0.266667</td>\n",
       "    </tr>\n",
       "    <tr>\n",
       "      <td>3073</td>\n",
       "      <td>Wyoming</td>\n",
       "      <td>52</td>\n",
       "      <td>1209.0</td>\n",
       "      <td>65.0</td>\n",
       "      <td>-0.213914</td>\n",
       "      <td>1.954545</td>\n",
       "    </tr>\n",
       "  </tbody>\n",
       "</table>\n",
       "</div>"
      ],
      "text/plain": [
       "     Province_State Week Number  Weekly Confirmed  Weekly Deaths  \\\n",
       "3069        Wyoming          48            3828.0           51.0   \n",
       "3070        Wyoming          49            3043.0           55.0   \n",
       "3071        Wyoming          50            2302.0           30.0   \n",
       "3072        Wyoming          51            1538.0           22.0   \n",
       "3073        Wyoming          52            1209.0           65.0   \n",
       "\n",
       "      Weekly Confirmed % Change  Weekly Deaths % Change  \n",
       "3069                  -0.113889                0.307692  \n",
       "3070                  -0.205068                0.078431  \n",
       "3071                  -0.243510               -0.454545  \n",
       "3072                  -0.331885               -0.266667  \n",
       "3073                  -0.213914                1.954545  "
      ]
     },
     "execution_count": 15,
     "metadata": {},
     "output_type": "execute_result"
    }
   ],
   "source": [
    "# add the weekly percentage change calculated above to the weekly_covid dataframe\n",
    "weekly_covid[['Weekly Confirmed % Change', 'Weekly Deaths % Change']\n",
    "             ] = weekly_change[['Weekly Confirmed', 'Weekly Deaths']]\n",
    "\n",
    "# replace NaN with 0\n",
    "weekly_covid.replace(np.nan, 0, inplace=True)\n",
    "\n",
    "weekly_covid.tail()"
   ]
  },
  {
   "cell_type": "code",
   "execution_count": 16,
   "metadata": {},
   "outputs": [],
   "source": [
    "# check the most recent US daily confirmed cases and deaths\n",
    "daily_sum = covid_19.groupby(['Date']).sum()[['Daily Confirmed','Daily Deaths']]\n",
    "#print(daily_sum.tail())\n",
    "\n",
    "# check the most recent US weekly confirmed cases and deaths \n",
    "weekly_sum = weekly_covid.groupby('Week Number').sum()[['Weekly Confirmed','Weekly Deaths']]\n",
    "#print(weekly_sum.tail())"
   ]
  },
  {
   "cell_type": "code",
   "execution_count": 17,
   "metadata": {},
   "outputs": [],
   "source": [
    "# Export Data as csv to load into Power BI\n",
    "covid_19.to_csv('UScovid', sep='\\t')\n",
    "weekly_covid.to_csv('weekly_covid', sep='\\t')"
   ]
  }
 ],
 "metadata": {
  "kernelspec": {
   "display_name": "Python 3",
   "language": "python",
   "name": "python3"
  },
  "language_info": {
   "codemirror_mode": {
    "name": "ipython",
    "version": 3
   },
   "file_extension": ".py",
   "mimetype": "text/x-python",
   "name": "python",
   "nbconvert_exporter": "python",
   "pygments_lexer": "ipython3",
   "version": "3.7.4"
  },
  "toc": {
   "base_numbering": 1,
   "nav_menu": {},
   "number_sections": true,
   "sideBar": true,
   "skip_h1_title": true,
   "title_cell": "Table of Contents",
   "title_sidebar": "Contents",
   "toc_cell": false,
   "toc_position": {
    "height": "calc(100% - 180px)",
    "left": "10px",
    "top": "150px",
    "width": "189.333px"
   },
   "toc_section_display": true,
   "toc_window_display": false
  }
 },
 "nbformat": 4,
 "nbformat_minor": 4
}
