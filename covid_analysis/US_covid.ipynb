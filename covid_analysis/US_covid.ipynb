{
 "cells": [
  {
   "cell_type": "markdown",
   "metadata": {},
   "source": [
    "# COVID-19: United States Confirmed Cases & Deaths "
   ]
  },
  {
   "cell_type": "markdown",
   "metadata": {},
   "source": [
    "The following data cleaning and merging is performed to load the data into Power BI for further visualization and analysis."
   ]
  },
  {
   "cell_type": "code",
   "execution_count": 1,
   "metadata": {},
   "outputs": [],
   "source": [
    "# Packages / libraries\n",
    "import os\n",
    "import numpy as np\n",
    "import pandas as pd\n",
    "from datetime import datetime\n",
    "\n",
    "import warnings\n",
    "warnings.filterwarnings('ignore')"
   ]
  },
  {
   "cell_type": "markdown",
   "metadata": {},
   "source": [
    "The data collected for this analysis is operated by the Johns Hopkins University Center for Systems Science and Engineering (https://github.com/CSSEGISandData/COVID-19/tree/master/csse_covid_19_data/csse_covid_19_time_series)"
   ]
  },
  {
   "cell_type": "code",
   "execution_count": 2,
   "metadata": {
    "scrolled": false
   },
   "outputs": [
    {
     "name": "stdout",
     "output_type": "stream",
     "text": [
      "The shape of confirmed is: (3342, 492)\n",
      "The shape of deaths is: (3342, 493)\n"
     ]
    },
    {
     "data": {
      "text/html": [
       "<div>\n",
       "<style scoped>\n",
       "    .dataframe tbody tr th:only-of-type {\n",
       "        vertical-align: middle;\n",
       "    }\n",
       "\n",
       "    .dataframe tbody tr th {\n",
       "        vertical-align: top;\n",
       "    }\n",
       "\n",
       "    .dataframe thead th {\n",
       "        text-align: right;\n",
       "    }\n",
       "</style>\n",
       "<table border=\"1\" class=\"dataframe\">\n",
       "  <thead>\n",
       "    <tr style=\"text-align: right;\">\n",
       "      <th></th>\n",
       "      <th>UID</th>\n",
       "      <th>iso2</th>\n",
       "      <th>iso3</th>\n",
       "      <th>code3</th>\n",
       "      <th>FIPS</th>\n",
       "      <th>Admin2</th>\n",
       "      <th>Province_State</th>\n",
       "      <th>Country_Region</th>\n",
       "      <th>Lat</th>\n",
       "      <th>Long_</th>\n",
       "      <th>...</th>\n",
       "      <th>5/7/21</th>\n",
       "      <th>5/8/21</th>\n",
       "      <th>5/9/21</th>\n",
       "      <th>5/10/21</th>\n",
       "      <th>5/11/21</th>\n",
       "      <th>5/12/21</th>\n",
       "      <th>5/13/21</th>\n",
       "      <th>5/14/21</th>\n",
       "      <th>5/15/21</th>\n",
       "      <th>5/16/21</th>\n",
       "    </tr>\n",
       "  </thead>\n",
       "  <tbody>\n",
       "    <tr>\n",
       "      <td>0</td>\n",
       "      <td>84001001</td>\n",
       "      <td>US</td>\n",
       "      <td>USA</td>\n",
       "      <td>840</td>\n",
       "      <td>1001.0</td>\n",
       "      <td>Autauga</td>\n",
       "      <td>Alabama</td>\n",
       "      <td>US</td>\n",
       "      <td>32.539527</td>\n",
       "      <td>-86.644082</td>\n",
       "      <td>...</td>\n",
       "      <td>6918</td>\n",
       "      <td>6918</td>\n",
       "      <td>6920</td>\n",
       "      <td>6920</td>\n",
       "      <td>6926</td>\n",
       "      <td>6928</td>\n",
       "      <td>6938</td>\n",
       "      <td>6971</td>\n",
       "      <td>7001</td>\n",
       "      <td>7005</td>\n",
       "    </tr>\n",
       "    <tr>\n",
       "      <td>1</td>\n",
       "      <td>84001003</td>\n",
       "      <td>US</td>\n",
       "      <td>USA</td>\n",
       "      <td>840</td>\n",
       "      <td>1003.0</td>\n",
       "      <td>Baldwin</td>\n",
       "      <td>Alabama</td>\n",
       "      <td>US</td>\n",
       "      <td>30.727750</td>\n",
       "      <td>-87.722071</td>\n",
       "      <td>...</td>\n",
       "      <td>21107</td>\n",
       "      <td>21123</td>\n",
       "      <td>21131</td>\n",
       "      <td>21135</td>\n",
       "      <td>21154</td>\n",
       "      <td>21170</td>\n",
       "      <td>21191</td>\n",
       "      <td>21290</td>\n",
       "      <td>21392</td>\n",
       "      <td>21411</td>\n",
       "    </tr>\n",
       "    <tr>\n",
       "      <td>2</td>\n",
       "      <td>84001005</td>\n",
       "      <td>US</td>\n",
       "      <td>USA</td>\n",
       "      <td>840</td>\n",
       "      <td>1005.0</td>\n",
       "      <td>Barbour</td>\n",
       "      <td>Alabama</td>\n",
       "      <td>US</td>\n",
       "      <td>31.868263</td>\n",
       "      <td>-85.387129</td>\n",
       "      <td>...</td>\n",
       "      <td>2307</td>\n",
       "      <td>2307</td>\n",
       "      <td>2308</td>\n",
       "      <td>2308</td>\n",
       "      <td>2310</td>\n",
       "      <td>2314</td>\n",
       "      <td>2317</td>\n",
       "      <td>2319</td>\n",
       "      <td>2320</td>\n",
       "      <td>2320</td>\n",
       "    </tr>\n",
       "    <tr>\n",
       "      <td>3</td>\n",
       "      <td>84001007</td>\n",
       "      <td>US</td>\n",
       "      <td>USA</td>\n",
       "      <td>840</td>\n",
       "      <td>1007.0</td>\n",
       "      <td>Bibb</td>\n",
       "      <td>Alabama</td>\n",
       "      <td>US</td>\n",
       "      <td>32.996421</td>\n",
       "      <td>-87.125115</td>\n",
       "      <td>...</td>\n",
       "      <td>2604</td>\n",
       "      <td>2605</td>\n",
       "      <td>2607</td>\n",
       "      <td>2607</td>\n",
       "      <td>2609</td>\n",
       "      <td>2612</td>\n",
       "      <td>2615</td>\n",
       "      <td>2630</td>\n",
       "      <td>2645</td>\n",
       "      <td>2647</td>\n",
       "    </tr>\n",
       "    <tr>\n",
       "      <td>4</td>\n",
       "      <td>84001009</td>\n",
       "      <td>US</td>\n",
       "      <td>USA</td>\n",
       "      <td>840</td>\n",
       "      <td>1009.0</td>\n",
       "      <td>Blount</td>\n",
       "      <td>Alabama</td>\n",
       "      <td>US</td>\n",
       "      <td>33.982109</td>\n",
       "      <td>-86.567906</td>\n",
       "      <td>...</td>\n",
       "      <td>6651</td>\n",
       "      <td>6656</td>\n",
       "      <td>6660</td>\n",
       "      <td>6661</td>\n",
       "      <td>6678</td>\n",
       "      <td>6680</td>\n",
       "      <td>6694</td>\n",
       "      <td>6750</td>\n",
       "      <td>6771</td>\n",
       "      <td>6773</td>\n",
       "    </tr>\n",
       "  </tbody>\n",
       "</table>\n",
       "<p>5 rows × 492 columns</p>\n",
       "</div>"
      ],
      "text/plain": [
       "        UID iso2 iso3  code3    FIPS   Admin2 Province_State Country_Region  \\\n",
       "0  84001001   US  USA    840  1001.0  Autauga        Alabama             US   \n",
       "1  84001003   US  USA    840  1003.0  Baldwin        Alabama             US   \n",
       "2  84001005   US  USA    840  1005.0  Barbour        Alabama             US   \n",
       "3  84001007   US  USA    840  1007.0     Bibb        Alabama             US   \n",
       "4  84001009   US  USA    840  1009.0   Blount        Alabama             US   \n",
       "\n",
       "         Lat      Long_  ... 5/7/21  5/8/21  5/9/21  5/10/21  5/11/21  \\\n",
       "0  32.539527 -86.644082  ...   6918    6918    6920     6920     6926   \n",
       "1  30.727750 -87.722071  ...  21107   21123   21131    21135    21154   \n",
       "2  31.868263 -85.387129  ...   2307    2307    2308     2308     2310   \n",
       "3  32.996421 -87.125115  ...   2604    2605    2607     2607     2609   \n",
       "4  33.982109 -86.567906  ...   6651    6656    6660     6661     6678   \n",
       "\n",
       "   5/12/21  5/13/21  5/14/21  5/15/21  5/16/21  \n",
       "0     6928     6938     6971     7001     7005  \n",
       "1    21170    21191    21290    21392    21411  \n",
       "2     2314     2317     2319     2320     2320  \n",
       "3     2612     2615     2630     2645     2647  \n",
       "4     6680     6694     6750     6771     6773  \n",
       "\n",
       "[5 rows x 492 columns]"
      ]
     },
     "execution_count": 2,
     "metadata": {},
     "output_type": "execute_result"
    }
   ],
   "source": [
    "# load raw data from https://github.com/CSSEGISandData/COVID-19/tree/master/csse_covid_19_data/csse_covid_19_time_series\n",
    "confirmed = pd.read_csv(\"C:/Users/garcr/Desktop/time_series_covid19_confirmed_US.csv\")\n",
    "deaths = pd.read_csv(\"C:/Users/garcr/Desktop/time_series_covid19_deaths_US.csv\")\n",
    "\n",
    "# Confirm that the dataframes have the same number of rows (countries) and columns (dates)\n",
    "# Deaths dataframe has an extra column 'Population'\n",
    "print('The shape of confirmed is:', confirmed.shape)\n",
    "print('The shape of deaths is:', deaths.shape)\n",
    "\n",
    "confirmed.head()\n",
    "#deaths.head()"
   ]
  },
  {
   "cell_type": "code",
   "execution_count": 3,
   "metadata": {
    "scrolled": true
   },
   "outputs": [],
   "source": [
    "# Drop unnecessary columns\n",
    "confirmed.drop(['iso2','iso3','code3','FIPS','Combined_Key'], axis=1, inplace=True)\n",
    "deaths.drop(['iso2','iso3','code3','FIPS','Combined_Key'], axis=1, inplace=True)\n",
    "\n",
    "#confirmed.head()\n",
    "#deaths.head()"
   ]
  },
  {
   "cell_type": "code",
   "execution_count": 4,
   "metadata": {},
   "outputs": [
    {
     "name": "stdout",
     "output_type": "stream",
     "text": [
      "The shape of confirmed is: (1607502, 8)\n",
      "The shape of deaths is: (1607502, 9)\n"
     ]
    }
   ],
   "source": [
    "# Melt the date columns into one column\n",
    "confirmed2 = pd.melt(confirmed, id_vars=[\n",
    "                     'UID', 'Admin2', 'Province_State', 'Country_Region', 'Lat', 'Long_'], var_name=['Date'])\n",
    "deaths2 = pd.melt(deaths, id_vars=['UID', 'Admin2', 'Province_State',\n",
    "                                   'Country_Region', 'Lat', 'Long_', 'Population'], var_name=['Date'])\n",
    "\n",
    "print('The shape of confirmed is:', confirmed2.shape)\n",
    "print('The shape of deaths is:', deaths2.shape)\n",
    "\n",
    "# confirmed2.head()"
   ]
  },
  {
   "cell_type": "code",
   "execution_count": 5,
   "metadata": {},
   "outputs": [],
   "source": [
    "# Convert Date column into datetime objects (xxxx-xx-xx)\n",
    "confirmed2['Date'] = pd.to_datetime(confirmed2['Date'])\n",
    "deaths2['Date'] = pd.to_datetime(deaths2['Date'])"
   ]
  },
  {
   "cell_type": "code",
   "execution_count": 6,
   "metadata": {},
   "outputs": [
    {
     "name": "stdout",
     "output_type": "stream",
     "text": [
      "UID                  0\n",
      "County            2886\n",
      "Province_State       0\n",
      "Country_Region       0\n",
      "Lat                  0\n",
      "Long_                0\n",
      "Date                 0\n",
      "Confirmed            0\n",
      "dtype: int64\n",
      "UID                  0\n",
      "County            2886\n",
      "Province_State       0\n",
      "Country_Region       0\n",
      "Lat                  0\n",
      "Long_                0\n",
      "Population           0\n",
      "Date                 0\n",
      "Deaths               0\n",
      "dtype: int64\n"
     ]
    }
   ],
   "source": [
    "# Replace column headings with detailed fields\n",
    "confirmed2.columns = confirmed2.columns.str.replace('value', 'Confirmed')\n",
    "confirmed2.columns = confirmed2.columns.str.replace('Admin2', 'County')\n",
    "deaths2.columns = deaths2.columns.str.replace('value', 'Deaths')\n",
    "deaths2.columns = deaths2.columns.str.replace('Admin2', 'County')\n",
    "\n",
    "# Investigate NULLs before join\n",
    "print(confirmed2.isnull().sum())\n",
    "print(deaths2.isnull().sum())"
   ]
  },
  {
   "cell_type": "markdown",
   "metadata": {},
   "source": [
    "The null county values are due to the the District of Columbia, the 5 inhabited US territories (American Samoa, Guam, Northern Mariana Islands, Puerto Rico, US Virgin Islands) and the Grand Princess and Diamond Princess cruise ships having no counties. The null county value will be filled with the 'Province_State' name of the corresponding territory or cruise ship. "
   ]
  },
  {
   "cell_type": "code",
   "execution_count": 7,
   "metadata": {
    "scrolled": false
   },
   "outputs": [
    {
     "name": "stdout",
     "output_type": "stream",
     "text": [
      "\n",
      "The shape of confirmed is: (1607502, 8)\n",
      "The shape of deaths is: (1607502, 9)\n",
      "The shape of the joined dataframe is: (1607502, 10)\n"
     ]
    }
   ],
   "source": [
    "# Join the dataframes\n",
    "covid = confirmed2.merge(deaths2[['UID', 'Province_State', 'Country_Region', 'Date', 'Deaths', 'Population']],\n",
    "                         how='outer',\n",
    "                         left_on=['UID', 'Province_State',\n",
    "                                  'Country_Region', 'Date'],\n",
    "                         right_on=['UID', 'Province_State', 'Country_Region', 'Date'])\n",
    "\n",
    "# Investigate the shape of the dataframe after the join\n",
    "print('\\nThe shape of confirmed is:', confirmed2.shape)\n",
    "print('The shape of deaths is:', deaths2.shape)\n",
    "print('The shape of the joined dataframe is:', covid.shape)\n",
    "\n",
    "# print(covid.isnull().sum())\n",
    "# covid.tail()"
   ]
  },
  {
   "cell_type": "markdown",
   "metadata": {},
   "source": [
    "The joined dataframe \"covid\" has 10 columns because Deaths and Population has been added to the confirmed dataframe. "
   ]
  },
  {
   "cell_type": "code",
   "execution_count": 8,
   "metadata": {
    "scrolled": true
   },
   "outputs": [
    {
     "data": {
      "text/plain": [
       "UID               0\n",
       "County            0\n",
       "Province_State    0\n",
       "Country_Region    0\n",
       "Lat               0\n",
       "Long_             0\n",
       "Date              0\n",
       "Confirmed         0\n",
       "Deaths            0\n",
       "Population        0\n",
       "dtype: int64"
      ]
     },
     "execution_count": 8,
     "metadata": {},
     "output_type": "execute_result"
    }
   ],
   "source": [
    "# Fill County NaN values with Province_State values (Applies only to DC, US territories, and cruise ships)\n",
    "covid['County'].fillna(covid['Province_State'], inplace=True)\n",
    "\n",
    "# covid.head()\n",
    "covid.isnull().sum()"
   ]
  },
  {
   "cell_type": "code",
   "execution_count": 9,
   "metadata": {},
   "outputs": [],
   "source": [
    "# Add Month-Year column\n",
    "covid['Month-Year'] = covid['Date'].dt.strftime('%b-%Y')\n",
    "# covid.tail()"
   ]
  },
  {
   "cell_type": "code",
   "execution_count": 10,
   "metadata": {},
   "outputs": [
    {
     "name": "stdout",
     "output_type": "stream",
     "text": [
      "(1607502, 15)\n"
     ]
    }
   ],
   "source": [
    "# Copy df\n",
    "temp = covid.copy()\n",
    "\n",
    "# Create columns for previous date's COVID-19 cases to create daily aggregates and a running total\n",
    "temp['Current Date'] = covid['Date'] + pd.Timedelta(days=1)\n",
    "temp.rename(columns={'Confirmed': 'Confirmed - 1',\n",
    "                     'Deaths': 'Deaths - 1', 'Date': 'Date - 1'}, inplace=True)\n",
    "\n",
    "# Perform left join on DFs\n",
    "covid_19 = covid.merge(temp[['UID', 'Province_State', 'Country_Region', 'Confirmed - 1', 'Deaths - 1',\n",
    "                             'Current Date', 'Date - 1']], how='left',\n",
    "                       left_on=['UID', 'Province_State',\n",
    "                                'Country_Region', 'Date'],\n",
    "                       right_on=['UID', 'Province_State', 'Country_Region', 'Current Date'])\n",
    "print(covid_19.shape)\n",
    "# covid_19.head()"
   ]
  },
  {
   "cell_type": "code",
   "execution_count": 11,
   "metadata": {},
   "outputs": [
    {
     "name": "stdout",
     "output_type": "stream",
     "text": [
      "(1607502, 17)\n"
     ]
    }
   ],
   "source": [
    "# Calculate the daily numbers for confirmed cases & deaths (current aggregate - previous aggregate = daily confirmed)\n",
    "covid_19['Daily Confirmed'] = covid_19['Confirmed'] - covid_19['Confirmed - 1']\n",
    "covid_19['Daily Deaths'] = covid_19['Deaths'] - covid_19['Deaths - 1']\n",
    "\n",
    "print(covid_19.shape)\n",
    "# covid_19.head()"
   ]
  },
  {
   "cell_type": "code",
   "execution_count": 12,
   "metadata": {
    "scrolled": false
   },
   "outputs": [
    {
     "name": "stdout",
     "output_type": "stream",
     "text": [
      "(1607502, 13)\n"
     ]
    }
   ],
   "source": [
    "# Include daily numbers for the first day of data where there is no previous date available (2020-01-22)\n",
    "covid_19['Daily Confirmed'].loc[covid_19['Date'] == '2020-01-22'] = covid_19['Confirmed']\n",
    "covid_19['Daily Deaths'].loc[covid_19['Date'] == '2020-01-22'] = covid_19['Deaths']\n",
    "\n",
    "# Delete unnecessary columns\n",
    "covid_19.drop(['Confirmed - 1', 'Deaths - 1', 'Current Date', 'Date - 1'], axis=1, inplace=True)\n",
    "print(covid_19.shape)\n",
    "#covid_19.head()"
   ]
  },
  {
   "cell_type": "code",
   "execution_count": 13,
   "metadata": {},
   "outputs": [
    {
     "data": {
      "text/html": [
       "<div>\n",
       "<style scoped>\n",
       "    .dataframe tbody tr th:only-of-type {\n",
       "        vertical-align: middle;\n",
       "    }\n",
       "\n",
       "    .dataframe tbody tr th {\n",
       "        vertical-align: top;\n",
       "    }\n",
       "\n",
       "    .dataframe thead th {\n",
       "        text-align: right;\n",
       "    }\n",
       "</style>\n",
       "<table border=\"1\" class=\"dataframe\">\n",
       "  <thead>\n",
       "    <tr style=\"text-align: right;\">\n",
       "      <th></th>\n",
       "      <th>Province_State</th>\n",
       "      <th>Week Number</th>\n",
       "      <th>Weekly Confirmed</th>\n",
       "      <th>Weekly Deaths</th>\n",
       "    </tr>\n",
       "  </thead>\n",
       "  <tbody>\n",
       "    <tr>\n",
       "      <td>69</td>\n",
       "      <td>Alabama</td>\n",
       "      <td>2021-19</td>\n",
       "      <td>9095.0</td>\n",
       "      <td>60.0</td>\n",
       "    </tr>\n",
       "    <tr>\n",
       "      <td>139</td>\n",
       "      <td>Alaska</td>\n",
       "      <td>2021-19</td>\n",
       "      <td>584.0</td>\n",
       "      <td>4.0</td>\n",
       "    </tr>\n",
       "    <tr>\n",
       "      <td>209</td>\n",
       "      <td>American Samoa</td>\n",
       "      <td>2021-19</td>\n",
       "      <td>0.0</td>\n",
       "      <td>0.0</td>\n",
       "    </tr>\n",
       "    <tr>\n",
       "      <td>279</td>\n",
       "      <td>Arizona</td>\n",
       "      <td>2021-19</td>\n",
       "      <td>4148.0</td>\n",
       "      <td>50.0</td>\n",
       "    </tr>\n",
       "    <tr>\n",
       "      <td>349</td>\n",
       "      <td>Arkansas</td>\n",
       "      <td>2021-19</td>\n",
       "      <td>1272.0</td>\n",
       "      <td>33.0</td>\n",
       "    </tr>\n",
       "  </tbody>\n",
       "</table>\n",
       "</div>"
      ],
      "text/plain": [
       "     Province_State Week Number  Weekly Confirmed  Weekly Deaths\n",
       "69          Alabama     2021-19            9095.0           60.0\n",
       "139          Alaska     2021-19             584.0            4.0\n",
       "209  American Samoa     2021-19               0.0            0.0\n",
       "279         Arizona     2021-19            4148.0           50.0\n",
       "349        Arkansas     2021-19            1272.0           33.0"
      ]
     },
     "execution_count": 13,
     "metadata": {},
     "output_type": "execute_result"
    }
   ],
   "source": [
    "# Add Week Number column \n",
    "covid_19['Week Number'] = covid_19['Date'].dt.strftime('%Y-%W')\n",
    "\n",
    "# Calculate weekly sum by state (Week is Monday-Sunday)\n",
    "weekly_covid = covid_19.groupby(['Province_State', 'Week Number']).agg(\n",
    "    {'Daily Confirmed': 'sum', 'Daily Deaths': 'sum'}).reset_index()\n",
    "\n",
    "# Rename 'Daily' metrics to 'Weekly' metrics\n",
    "weekly_covid.columns = weekly_covid.columns.str.replace(\n",
    "    'Daily Confirmed', 'Weekly Confirmed')\n",
    "weekly_covid.columns = weekly_covid.columns.str.replace(\n",
    "    'Daily Deaths', 'Weekly Deaths')\n",
    "\n",
    "# View most recent weekly numbers by state/territory\n",
    "weekly_covid[weekly_covid['Week Number'] == weekly_covid['Week Number'].max()].head()"
   ]
  },
  {
   "cell_type": "code",
   "execution_count": 14,
   "metadata": {},
   "outputs": [],
   "source": [
    "# Calculate the weekly percentage change in confirmed cases and deaths for each state\n",
    "weekly_change = weekly_covid.groupby(['Province_State', 'Week Number']).agg(\n",
    "    {'Weekly Confirmed': 'sum', 'Weekly Deaths': 'sum'}).pct_change().reset_index()"
   ]
  },
  {
   "cell_type": "code",
   "execution_count": 15,
   "metadata": {
    "scrolled": false
   },
   "outputs": [
    {
     "data": {
      "text/html": [
       "<div>\n",
       "<style scoped>\n",
       "    .dataframe tbody tr th:only-of-type {\n",
       "        vertical-align: middle;\n",
       "    }\n",
       "\n",
       "    .dataframe tbody tr th {\n",
       "        vertical-align: top;\n",
       "    }\n",
       "\n",
       "    .dataframe thead th {\n",
       "        text-align: right;\n",
       "    }\n",
       "</style>\n",
       "<table border=\"1\" class=\"dataframe\">\n",
       "  <thead>\n",
       "    <tr style=\"text-align: right;\">\n",
       "      <th></th>\n",
       "      <th>Province_State</th>\n",
       "      <th>Week Number</th>\n",
       "      <th>Weekly Confirmed</th>\n",
       "      <th>Weekly Deaths</th>\n",
       "      <th>Weekly Confirmed % Change</th>\n",
       "      <th>Weekly Deaths % Change</th>\n",
       "    </tr>\n",
       "  </thead>\n",
       "  <tbody>\n",
       "    <tr>\n",
       "      <td>4055</td>\n",
       "      <td>Wyoming</td>\n",
       "      <td>2021-15</td>\n",
       "      <td>394.0</td>\n",
       "      <td>2.0</td>\n",
       "      <td>-0.075117</td>\n",
       "      <td>1.000000</td>\n",
       "    </tr>\n",
       "    <tr>\n",
       "      <td>4056</td>\n",
       "      <td>Wyoming</td>\n",
       "      <td>2021-16</td>\n",
       "      <td>429.0</td>\n",
       "      <td>2.0</td>\n",
       "      <td>0.088832</td>\n",
       "      <td>0.000000</td>\n",
       "    </tr>\n",
       "    <tr>\n",
       "      <td>4057</td>\n",
       "      <td>Wyoming</td>\n",
       "      <td>2021-17</td>\n",
       "      <td>446.0</td>\n",
       "      <td>2.0</td>\n",
       "      <td>0.039627</td>\n",
       "      <td>0.000000</td>\n",
       "    </tr>\n",
       "    <tr>\n",
       "      <td>4058</td>\n",
       "      <td>Wyoming</td>\n",
       "      <td>2021-18</td>\n",
       "      <td>481.0</td>\n",
       "      <td>3.0</td>\n",
       "      <td>0.078475</td>\n",
       "      <td>0.500000</td>\n",
       "    </tr>\n",
       "    <tr>\n",
       "      <td>4059</td>\n",
       "      <td>Wyoming</td>\n",
       "      <td>2021-19</td>\n",
       "      <td>456.0</td>\n",
       "      <td>2.0</td>\n",
       "      <td>-0.051975</td>\n",
       "      <td>-0.333333</td>\n",
       "    </tr>\n",
       "  </tbody>\n",
       "</table>\n",
       "</div>"
      ],
      "text/plain": [
       "     Province_State Week Number  Weekly Confirmed  Weekly Deaths  \\\n",
       "4055        Wyoming     2021-15             394.0            2.0   \n",
       "4056        Wyoming     2021-16             429.0            2.0   \n",
       "4057        Wyoming     2021-17             446.0            2.0   \n",
       "4058        Wyoming     2021-18             481.0            3.0   \n",
       "4059        Wyoming     2021-19             456.0            2.0   \n",
       "\n",
       "      Weekly Confirmed % Change  Weekly Deaths % Change  \n",
       "4055                  -0.075117                1.000000  \n",
       "4056                   0.088832                0.000000  \n",
       "4057                   0.039627                0.000000  \n",
       "4058                   0.078475                0.500000  \n",
       "4059                  -0.051975               -0.333333  "
      ]
     },
     "execution_count": 15,
     "metadata": {},
     "output_type": "execute_result"
    }
   ],
   "source": [
    "# Add the weekly percentage change calculated above to the weekly_covid dataframe\n",
    "weekly_covid[['Weekly Confirmed % Change', 'Weekly Deaths % Change']\n",
    "             ] = weekly_change[['Weekly Confirmed', 'Weekly Deaths']]\n",
    "\n",
    "# Replace NaN with 0 (zero percent change from prior week)\n",
    "weekly_covid.replace(np.nan, 0, inplace=True)\n",
    "weekly_covid.tail()"
   ]
  },
  {
   "cell_type": "code",
   "execution_count": 16,
   "metadata": {},
   "outputs": [
    {
     "name": "stdout",
     "output_type": "stream",
     "text": [
      "             Weekly Confirmed  Weekly Deaths\n",
      "Week Number                                 \n",
      "2021-15              472154.0         5071.0\n",
      "2021-16              407147.0         4933.0\n",
      "2021-17              344463.0         4737.0\n",
      "2021-18              286716.0         4538.0\n",
      "2021-19              232489.0         4116.0\n"
     ]
    }
   ],
   "source": [
    "# Check the most recent US daily confirmed cases and deaths\n",
    "daily_sum = covid_19.groupby(['Date']).sum()[['Daily Confirmed','Daily Deaths']]\n",
    "#print(daily_sum.tail())\n",
    "\n",
    "# Check the most recent US weekly confirmed cases and deaths \n",
    "weekly_sum = weekly_covid.groupby('Week Number').sum()[['Weekly Confirmed','Weekly Deaths']]\n",
    "print(weekly_sum.tail())"
   ]
  },
  {
   "cell_type": "code",
   "execution_count": 17,
   "metadata": {},
   "outputs": [],
   "source": [
    "# Export Data as csv to load into Power BI\n",
    "covid_19.to_csv('UScovid', sep='\\t')\n",
    "weekly_covid.to_csv('weekly_covid', sep='\\t')"
   ]
  }
 ],
 "metadata": {
  "kernelspec": {
   "display_name": "Python 3",
   "language": "python",
   "name": "python3"
  },
  "language_info": {
   "codemirror_mode": {
    "name": "ipython",
    "version": 3
   },
   "file_extension": ".py",
   "mimetype": "text/x-python",
   "name": "python",
   "nbconvert_exporter": "python",
   "pygments_lexer": "ipython3",
   "version": "3.7.4"
  },
  "toc": {
   "base_numbering": 1,
   "nav_menu": {},
   "number_sections": true,
   "sideBar": true,
   "skip_h1_title": true,
   "title_cell": "Table of Contents",
   "title_sidebar": "Contents",
   "toc_cell": false,
   "toc_position": {
    "height": "calc(100% - 180px)",
    "left": "10px",
    "top": "150px",
    "width": "189.333px"
   },
   "toc_section_display": true,
   "toc_window_display": false
  }
 },
 "nbformat": 4,
 "nbformat_minor": 4
}
